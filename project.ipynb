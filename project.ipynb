{
  "cells": [
    {
      "cell_type": "markdown",
      "metadata": {
        "id": "LAEv3B7Ef370"
      },
      "source": [
        "# **Data Wrangling Project 2024**\n",
        "---"
      ]
    },
    {
      "cell_type": "markdown",
      "metadata": {
        "id": "6yRTgwCqf371"
      },
      "source": [
        "In fulfillment of the course *Data Wrangling XB_0014* at the *Vrije Universiteit Amsterdam*.<br>\n",
        "This project was conducted by **Alvaro Pratama Maharto, Michael Evan Sutanto, Mahmoud Ashtar, and Miguel Sadorra.**"
      ]
    },
    {
      "cell_type": "markdown",
      "metadata": {
        "id": "p5rOVTa3f372"
      },
      "source": [
        "#### **TOPIC**: Marketing Strategy Effectivity\n",
        "This research will be taking a look at the effects of different types of marketing campaigns and their effectivity in terms of clickthrough rate, customer engagement, and customer acquisition.\n",
        "We will be having a look at the dataset with the following question in mind:\n",
        "### **RESEARCH QUESTION**:\n",
        "*How do different marketing strategies, particularly those used in bulk campaigns, impact the overall effectiveness of marketing initiatives, considering metrics such as clickthrough rates, customer engagement, and customer acquisition?*"
      ]
    },
    {
      "cell_type": "code",
      "execution_count": 1,
      "metadata": {
        "id": "hf8xPIdXIK6s"
      },
      "outputs": [],
      "source": [
        "import pandas as pd\n",
        "import numpy as np\n",
        "import matplotlib.pyplot as plt"
      ]
    },
    {
      "cell_type": "code",
      "execution_count": 2,
      "metadata": {
        "colab": {
          "base_uri": "https://localhost:8080/",
          "height": 348
        },
        "id": "tnjn2EJ0IK6v",
        "outputId": "ad382c97-afc4-4e0b-c562-6daf16848a9e"
      },
      "outputs": [
        {
          "name": "stderr",
          "output_type": "stream",
          "text": [
            "C:\\Users\\Alvaro\\AppData\\Local\\Temp\\ipykernel_7296\\1183315834.py:2: DtypeWarning: Columns (7,8,16,17,19,21,23,25,27,29) have mixed types. Specify dtype option on import or set low_memory=False.\n",
            "  messages_df = pd.read_csv(\"messages-demo.csv\")\n"
          ]
        },
        {
          "data": {
            "text/html": [
              "<div>\n",
              "<style scoped>\n",
              "    .dataframe tbody tr th:only-of-type {\n",
              "        vertical-align: middle;\n",
              "    }\n",
              "\n",
              "    .dataframe tbody tr th {\n",
              "        vertical-align: top;\n",
              "    }\n",
              "\n",
              "    .dataframe thead th {\n",
              "        text-align: right;\n",
              "    }\n",
              "</style>\n",
              "<table border=\"1\" class=\"dataframe\">\n",
              "  <thead>\n",
              "    <tr style=\"text-align: right;\">\n",
              "      <th></th>\n",
              "      <th>id</th>\n",
              "      <th>message_id</th>\n",
              "      <th>campaign_id</th>\n",
              "      <th>message_type</th>\n",
              "      <th>client_id</th>\n",
              "      <th>channel</th>\n",
              "      <th>category</th>\n",
              "      <th>platform</th>\n",
              "      <th>email_provider</th>\n",
              "      <th>stream</th>\n",
              "      <th>...</th>\n",
              "      <th>is_soft_bounced</th>\n",
              "      <th>soft_bounced_at</th>\n",
              "      <th>is_complained</th>\n",
              "      <th>complained_at</th>\n",
              "      <th>is_blocked</th>\n",
              "      <th>blocked_at</th>\n",
              "      <th>is_purchased</th>\n",
              "      <th>purchased_at</th>\n",
              "      <th>created_at</th>\n",
              "      <th>updated_at</th>\n",
              "    </tr>\n",
              "  </thead>\n",
              "  <tbody>\n",
              "    <tr>\n",
              "      <th>0</th>\n",
              "      <td>3527358</td>\n",
              "      <td>3f6aaad3-bab7-4886-b083-fe8c1f210066</td>\n",
              "      <td>31</td>\n",
              "      <td>transactional</td>\n",
              "      <td>1515915625489833514</td>\n",
              "      <td>email</td>\n",
              "      <td>NaN</td>\n",
              "      <td>NaN</td>\n",
              "      <td>mail.ru</td>\n",
              "      <td>desktop</td>\n",
              "      <td>...</td>\n",
              "      <td>f</td>\n",
              "      <td>NaN</td>\n",
              "      <td>f</td>\n",
              "      <td>NaN</td>\n",
              "      <td>f</td>\n",
              "      <td>NaN</td>\n",
              "      <td>t</td>\n",
              "      <td>2021-05-06 16:40:38</td>\n",
              "      <td>2023-04-27 08:55:05.883908</td>\n",
              "      <td>2023-04-27 08:57:33.080129</td>\n",
              "    </tr>\n",
              "    <tr>\n",
              "      <th>1</th>\n",
              "      <td>3527619</td>\n",
              "      <td>0e670ecc-4549-44f6-86ed-469682d34837</td>\n",
              "      <td>32</td>\n",
              "      <td>transactional</td>\n",
              "      <td>1515915625489220445</td>\n",
              "      <td>email</td>\n",
              "      <td>NaN</td>\n",
              "      <td>NaN</td>\n",
              "      <td>yandex.ru</td>\n",
              "      <td>desktop</td>\n",
              "      <td>...</td>\n",
              "      <td>f</td>\n",
              "      <td>NaN</td>\n",
              "      <td>f</td>\n",
              "      <td>NaN</td>\n",
              "      <td>f</td>\n",
              "      <td>NaN</td>\n",
              "      <td>f</td>\n",
              "      <td>NaN</td>\n",
              "      <td>2023-04-27 08:55:06.265821</td>\n",
              "      <td>2023-04-27 08:56:18.60223</td>\n",
              "    </tr>\n",
              "    <tr>\n",
              "      <th>2</th>\n",
              "      <td>3527980</td>\n",
              "      <td>276b25cf-1bda-4faf-b3a4-98e4161f9357</td>\n",
              "      <td>32</td>\n",
              "      <td>transactional</td>\n",
              "      <td>1515915625489854185</td>\n",
              "      <td>email</td>\n",
              "      <td>NaN</td>\n",
              "      <td>NaN</td>\n",
              "      <td>mail.ru</td>\n",
              "      <td>desktop</td>\n",
              "      <td>...</td>\n",
              "      <td>f</td>\n",
              "      <td>NaN</td>\n",
              "      <td>f</td>\n",
              "      <td>NaN</td>\n",
              "      <td>f</td>\n",
              "      <td>NaN</td>\n",
              "      <td>f</td>\n",
              "      <td>NaN</td>\n",
              "      <td>2023-04-27 08:55:06.777039</td>\n",
              "      <td>2023-04-27 08:56:19.112546</td>\n",
              "    </tr>\n",
              "    <tr>\n",
              "      <th>3</th>\n",
              "      <td>3528369</td>\n",
              "      <td>4545aff2-09b3-45e3-9abd-c680357e5429</td>\n",
              "      <td>32</td>\n",
              "      <td>transactional</td>\n",
              "      <td>1515915625489101550</td>\n",
              "      <td>email</td>\n",
              "      <td>NaN</td>\n",
              "      <td>NaN</td>\n",
              "      <td>mail.ru</td>\n",
              "      <td>desktop</td>\n",
              "      <td>...</td>\n",
              "      <td>f</td>\n",
              "      <td>NaN</td>\n",
              "      <td>f</td>\n",
              "      <td>NaN</td>\n",
              "      <td>f</td>\n",
              "      <td>NaN</td>\n",
              "      <td>f</td>\n",
              "      <td>NaN</td>\n",
              "      <td>2023-04-27 08:55:07.325906</td>\n",
              "      <td>2023-04-27 08:56:19.590637</td>\n",
              "    </tr>\n",
              "    <tr>\n",
              "      <th>4</th>\n",
              "      <td>3528648</td>\n",
              "      <td>5850858d-2dcf-4f31-a0d3-5db5649b17c4</td>\n",
              "      <td>32</td>\n",
              "      <td>transactional</td>\n",
              "      <td>1515915625490455948</td>\n",
              "      <td>email</td>\n",
              "      <td>NaN</td>\n",
              "      <td>NaN</td>\n",
              "      <td>mail.ru</td>\n",
              "      <td>desktop</td>\n",
              "      <td>...</td>\n",
              "      <td>f</td>\n",
              "      <td>NaN</td>\n",
              "      <td>f</td>\n",
              "      <td>NaN</td>\n",
              "      <td>f</td>\n",
              "      <td>NaN</td>\n",
              "      <td>f</td>\n",
              "      <td>NaN</td>\n",
              "      <td>2023-04-27 08:55:07.727792</td>\n",
              "      <td>2023-04-27 08:56:19.926474</td>\n",
              "    </tr>\n",
              "  </tbody>\n",
              "</table>\n",
              "<p>5 rows × 32 columns</p>\n",
              "</div>"
            ],
            "text/plain": [
              "        id                            message_id  campaign_id   message_type  \\\n",
              "0  3527358  3f6aaad3-bab7-4886-b083-fe8c1f210066           31  transactional   \n",
              "1  3527619  0e670ecc-4549-44f6-86ed-469682d34837           32  transactional   \n",
              "2  3527980  276b25cf-1bda-4faf-b3a4-98e4161f9357           32  transactional   \n",
              "3  3528369  4545aff2-09b3-45e3-9abd-c680357e5429           32  transactional   \n",
              "4  3528648  5850858d-2dcf-4f31-a0d3-5db5649b17c4           32  transactional   \n",
              "\n",
              "             client_id channel  category platform email_provider   stream  \\\n",
              "0  1515915625489833514   email       NaN      NaN        mail.ru  desktop   \n",
              "1  1515915625489220445   email       NaN      NaN      yandex.ru  desktop   \n",
              "2  1515915625489854185   email       NaN      NaN        mail.ru  desktop   \n",
              "3  1515915625489101550   email       NaN      NaN        mail.ru  desktop   \n",
              "4  1515915625490455948   email       NaN      NaN        mail.ru  desktop   \n",
              "\n",
              "   ... is_soft_bounced soft_bounced_at is_complained complained_at is_blocked  \\\n",
              "0  ...               f             NaN             f           NaN          f   \n",
              "1  ...               f             NaN             f           NaN          f   \n",
              "2  ...               f             NaN             f           NaN          f   \n",
              "3  ...               f             NaN             f           NaN          f   \n",
              "4  ...               f             NaN             f           NaN          f   \n",
              "\n",
              "  blocked_at is_purchased         purchased_at                  created_at  \\\n",
              "0        NaN            t  2021-05-06 16:40:38  2023-04-27 08:55:05.883908   \n",
              "1        NaN            f                  NaN  2023-04-27 08:55:06.265821   \n",
              "2        NaN            f                  NaN  2023-04-27 08:55:06.777039   \n",
              "3        NaN            f                  NaN  2023-04-27 08:55:07.325906   \n",
              "4        NaN            f                  NaN  2023-04-27 08:55:07.727792   \n",
              "\n",
              "                   updated_at  \n",
              "0  2023-04-27 08:57:33.080129  \n",
              "1   2023-04-27 08:56:18.60223  \n",
              "2  2023-04-27 08:56:19.112546  \n",
              "3  2023-04-27 08:56:19.590637  \n",
              "4  2023-04-27 08:56:19.926474  \n",
              "\n",
              "[5 rows x 32 columns]"
            ]
          },
          "execution_count": 2,
          "metadata": {},
          "output_type": "execute_result"
        }
      ],
      "source": [
        "campaigns_df = pd.read_csv(\"campaigns.csv\")\n",
        "messages_df = pd.read_csv(\"messages-demo.csv\")\n",
        "\n",
        "messages_df.head()"
      ]
    },
    {
      "cell_type": "code",
      "execution_count": 3,
      "metadata": {
        "colab": {
          "base_uri": "https://localhost:8080/"
        },
        "id": "-IgGpsd8IK6w",
        "outputId": "1d88317b-bcbf-4677-bef9-3e44c695c539"
      },
      "outputs": [
        {
          "name": "stdout",
          "output_type": "stream",
          "text": [
            "10000000\n",
            "1907\n"
          ]
        }
      ],
      "source": [
        "print(len(messages_df))\n",
        "print(len(campaigns_df))"
      ]
    },
    {
      "cell_type": "markdown",
      "metadata": {
        "id": "-kXfnDztIK6x"
      },
      "source": [
        "### Sampling\n",
        "Since the data is about 10 million rows big, the group decided to use only a sample of 40% of the data to cut down on computing time."
      ]
    },
    {
      "cell_type": "code",
      "execution_count": 4,
      "metadata": {
        "id": "nQE3G1nJIK6w"
      },
      "outputs": [],
      "source": [
        "# messages_df = messages_df[messages_df[\"message_type\"] == \"bulk\"] # since bulk campaigns are over 93% of the campaigns we are only working with bulk messages and bulk campaings\n",
        "# campaigns_df = campaigns_df[campaigns_df[\"campaign_type\"] == \"bulk\"]\n",
        "\n",
        "messages_sample = messages_df.sample(frac= 0.40, random_state= 42, replace= False)"
      ]
    },
    {
      "cell_type": "code",
      "execution_count": 5,
      "metadata": {
        "colab": {
          "base_uri": "https://localhost:8080/"
        },
        "id": "QlJx2cAIIK6x",
        "outputId": "a958330b-5201-41cc-e189-4095d19106cd"
      },
      "outputs": [
        {
          "name": "stdout",
          "output_type": "stream",
          "text": [
            "4000000\n"
          ]
        }
      ],
      "source": [
        "messages_sample.head()\n",
        "print(len(messages_sample))"
      ]
    },
    {
      "cell_type": "markdown",
      "metadata": {
        "id": "REjYs37lf378"
      },
      "source": [
        "### Cleaning up the data\n",
        "We will eliminate all of the unneccessary columns from the dataframes we created above and consolidate them into one `merged_df`"
      ]
    },
    {
      "cell_type": "code",
      "execution_count": 6,
      "metadata": {
        "colab": {
          "base_uri": "https://localhost:8080/"
        },
        "id": "PcVldup9IK6y",
        "outputId": "25b201fe-9d71-49f2-98bf-2441d9938f67"
      },
      "outputs": [
        {
          "name": "stdout",
          "output_type": "stream",
          "text": [
            "Messages Database:\n",
            " ['id', 'message_id', 'campaign_id', 'message_type', 'client_id', 'channel', 'category', 'platform', 'email_provider', 'stream', 'date', 'sent_at', 'is_opened', 'opened_first_time_at', 'opened_last_time_at', 'is_clicked', 'clicked_first_time_at', 'clicked_last_time_at', 'is_unsubscribed', 'unsubscribed_at', 'is_hard_bounced', 'hard_bounced_at', 'is_soft_bounced', 'soft_bounced_at', 'is_complained', 'complained_at', 'is_blocked', 'blocked_at', 'is_purchased', 'purchased_at', 'created_at', 'updated_at'] \n",
            "\n",
            "Campaigns Database:\n",
            " ['id', 'campaign_type', 'channel', 'topic', 'started_at', 'finished_at', 'total_count', 'ab_test', 'warmup_mode', 'hour_limit', 'subject_length', 'subject_with_personalization', 'subject_with_deadline', 'subject_with_emoji', 'subject_with_bonuses', 'subject_with_discount', 'subject_with_saleout', 'is_test', 'position']\n"
          ]
        }
      ],
      "source": [
        "print(\"Messages Database:\\n\",list(messages_df.columns),\"\\n\")\n",
        "print(\"Campaigns Database:\\n\",list(campaigns_df.columns))\n",
        "\n",
        "# our sample has many columns >>> some are disposable and some are missing the majority of the values => these will be dropped\n",
        "\n",
        "messages_sample = messages_sample.drop([\"id\", \"category\", \"platform\", \"stream\", \"hard_bounced_at\", \"soft_bounced_at\",\n",
        "                                         \"is_soft_bounced\", \"is_hard_bounced\",  \"blocked_at\", \"updated_at\", \"is_complained\",\n",
        "                                         \"complained_at\", \"opened_first_time_at\", \"clicked_last_time_at\", \"unsubscribed_at\",\n",
        "                                         \"created_at\", \"message_type\", \"message_id\", \"date\", \"email_provider\",\n",
        "                                         \"opened_last_time_at\", \"clicked_first_time_at\"],\n",
        "                                           axis= 1)\n",
        "\n",
        "campaigns_df = campaigns_df.drop([\"ab_test\", \"warmup_mode\", \"hour_limit\", \"is_test\", \"position\", \"campaign_type\"], axis=1)\n",
        "\n"
      ]
    },
    {
      "cell_type": "code",
      "execution_count": 7,
      "metadata": {
        "colab": {
          "base_uri": "https://localhost:8080/",
          "height": 537
        },
        "id": "VYQ05MnSIK6z",
        "outputId": "73aa048a-70c3-44ae-e00b-e8b33b90415b"
      },
      "outputs": [
        {
          "data": {
            "text/html": [
              "<div>\n",
              "<style scoped>\n",
              "    .dataframe tbody tr th:only-of-type {\n",
              "        vertical-align: middle;\n",
              "    }\n",
              "\n",
              "    .dataframe tbody tr th {\n",
              "        vertical-align: top;\n",
              "    }\n",
              "\n",
              "    .dataframe thead th {\n",
              "        text-align: right;\n",
              "    }\n",
              "</style>\n",
              "<table border=\"1\" class=\"dataframe\">\n",
              "  <thead>\n",
              "    <tr style=\"text-align: right;\">\n",
              "      <th></th>\n",
              "      <th>campaign_id</th>\n",
              "      <th>client_id</th>\n",
              "      <th>channel</th>\n",
              "      <th>sent_at</th>\n",
              "      <th>is_opened</th>\n",
              "      <th>is_clicked</th>\n",
              "      <th>is_unsubscribed</th>\n",
              "      <th>is_blocked</th>\n",
              "      <th>is_purchased</th>\n",
              "      <th>purchased_at</th>\n",
              "    </tr>\n",
              "  </thead>\n",
              "  <tbody>\n",
              "    <tr>\n",
              "      <th>919213</th>\n",
              "      <td>64</td>\n",
              "      <td>1515915625627233152</td>\n",
              "      <td>mobile_push</td>\n",
              "      <td>2021-04-30 08:47:49</td>\n",
              "      <td>f</td>\n",
              "      <td>f</td>\n",
              "      <td>t</td>\n",
              "      <td>f</td>\n",
              "      <td>f</td>\n",
              "      <td>NaN</td>\n",
              "    </tr>\n",
              "    <tr>\n",
              "      <th>9467153</th>\n",
              "      <td>19017</td>\n",
              "      <td>1515915625490484296</td>\n",
              "      <td>email</td>\n",
              "      <td>2021-06-09 10:20:24</td>\n",
              "      <td>f</td>\n",
              "      <td>f</td>\n",
              "      <td>f</td>\n",
              "      <td>f</td>\n",
              "      <td>f</td>\n",
              "      <td>NaN</td>\n",
              "    </tr>\n",
              "    <tr>\n",
              "      <th>6585777</th>\n",
              "      <td>152</td>\n",
              "      <td>1515915625468236701</td>\n",
              "      <td>email</td>\n",
              "      <td>2021-05-24 08:00:41</td>\n",
              "      <td>f</td>\n",
              "      <td>f</td>\n",
              "      <td>f</td>\n",
              "      <td>f</td>\n",
              "      <td>f</td>\n",
              "      <td>NaN</td>\n",
              "    </tr>\n",
              "    <tr>\n",
              "      <th>3878022</th>\n",
              "      <td>111</td>\n",
              "      <td>1515915625629380670</td>\n",
              "      <td>mobile_push</td>\n",
              "      <td>2021-05-12 08:11:23</td>\n",
              "      <td>f</td>\n",
              "      <td>f</td>\n",
              "      <td>f</td>\n",
              "      <td>f</td>\n",
              "      <td>f</td>\n",
              "      <td>NaN</td>\n",
              "    </tr>\n",
              "    <tr>\n",
              "      <th>5537116</th>\n",
              "      <td>150</td>\n",
              "      <td>1515915625501027566</td>\n",
              "      <td>email</td>\n",
              "      <td>2021-05-21 08:06:56</td>\n",
              "      <td>f</td>\n",
              "      <td>f</td>\n",
              "      <td>f</td>\n",
              "      <td>f</td>\n",
              "      <td>f</td>\n",
              "      <td>NaN</td>\n",
              "    </tr>\n",
              "    <tr>\n",
              "      <th>5893459</th>\n",
              "      <td>150</td>\n",
              "      <td>1515915625487280848</td>\n",
              "      <td>email</td>\n",
              "      <td>2021-05-21 07:02:26</td>\n",
              "      <td>f</td>\n",
              "      <td>f</td>\n",
              "      <td>f</td>\n",
              "      <td>f</td>\n",
              "      <td>f</td>\n",
              "      <td>NaN</td>\n",
              "    </tr>\n",
              "    <tr>\n",
              "      <th>8653685</th>\n",
              "      <td>298</td>\n",
              "      <td>1515915625490791354</td>\n",
              "      <td>mobile_push</td>\n",
              "      <td>2021-06-03 13:00:18</td>\n",
              "      <td>f</td>\n",
              "      <td>f</td>\n",
              "      <td>f</td>\n",
              "      <td>f</td>\n",
              "      <td>f</td>\n",
              "      <td>NaN</td>\n",
              "    </tr>\n",
              "    <tr>\n",
              "      <th>6880281</th>\n",
              "      <td>18012</td>\n",
              "      <td>1515915625500435910</td>\n",
              "      <td>email</td>\n",
              "      <td>2021-05-25 18:25:50</td>\n",
              "      <td>f</td>\n",
              "      <td>f</td>\n",
              "      <td>f</td>\n",
              "      <td>f</td>\n",
              "      <td>f</td>\n",
              "      <td>NaN</td>\n",
              "    </tr>\n",
              "    <tr>\n",
              "      <th>9478495</th>\n",
              "      <td>18212</td>\n",
              "      <td>1515915625559278997</td>\n",
              "      <td>email</td>\n",
              "      <td>2021-06-09 07:35:14</td>\n",
              "      <td>f</td>\n",
              "      <td>f</td>\n",
              "      <td>f</td>\n",
              "      <td>f</td>\n",
              "      <td>f</td>\n",
              "      <td>NaN</td>\n",
              "    </tr>\n",
              "    <tr>\n",
              "      <th>2930982</th>\n",
              "      <td>18016</td>\n",
              "      <td>1515915625567624693</td>\n",
              "      <td>email</td>\n",
              "      <td>2021-05-12 06:15:55</td>\n",
              "      <td>f</td>\n",
              "      <td>f</td>\n",
              "      <td>f</td>\n",
              "      <td>f</td>\n",
              "      <td>f</td>\n",
              "      <td>NaN</td>\n",
              "    </tr>\n",
              "  </tbody>\n",
              "</table>\n",
              "</div>"
            ],
            "text/plain": [
              "         campaign_id            client_id      channel              sent_at  \\\n",
              "919213            64  1515915625627233152  mobile_push  2021-04-30 08:47:49   \n",
              "9467153        19017  1515915625490484296        email  2021-06-09 10:20:24   \n",
              "6585777          152  1515915625468236701        email  2021-05-24 08:00:41   \n",
              "3878022          111  1515915625629380670  mobile_push  2021-05-12 08:11:23   \n",
              "5537116          150  1515915625501027566        email  2021-05-21 08:06:56   \n",
              "5893459          150  1515915625487280848        email  2021-05-21 07:02:26   \n",
              "8653685          298  1515915625490791354  mobile_push  2021-06-03 13:00:18   \n",
              "6880281        18012  1515915625500435910        email  2021-05-25 18:25:50   \n",
              "9478495        18212  1515915625559278997        email  2021-06-09 07:35:14   \n",
              "2930982        18016  1515915625567624693        email  2021-05-12 06:15:55   \n",
              "\n",
              "        is_opened is_clicked is_unsubscribed is_blocked is_purchased  \\\n",
              "919213          f          f               t          f            f   \n",
              "9467153         f          f               f          f            f   \n",
              "6585777         f          f               f          f            f   \n",
              "3878022         f          f               f          f            f   \n",
              "5537116         f          f               f          f            f   \n",
              "5893459         f          f               f          f            f   \n",
              "8653685         f          f               f          f            f   \n",
              "6880281         f          f               f          f            f   \n",
              "9478495         f          f               f          f            f   \n",
              "2930982         f          f               f          f            f   \n",
              "\n",
              "        purchased_at  \n",
              "919213           NaN  \n",
              "9467153          NaN  \n",
              "6585777          NaN  \n",
              "3878022          NaN  \n",
              "5537116          NaN  \n",
              "5893459          NaN  \n",
              "8653685          NaN  \n",
              "6880281          NaN  \n",
              "9478495          NaN  \n",
              "2930982          NaN  "
            ]
          },
          "metadata": {},
          "output_type": "display_data"
        }
      ],
      "source": [
        "display(messages_sample[:10])"
      ]
    },
    {
      "cell_type": "code",
      "execution_count": 8,
      "metadata": {
        "colab": {
          "base_uri": "https://localhost:8080/",
          "height": 557
        },
        "id": "Iti8c3Rlf379",
        "outputId": "20fd323f-1125-474d-9b99-e9437d706c57"
      },
      "outputs": [
        {
          "data": {
            "text/html": [
              "<div>\n",
              "<style scoped>\n",
              "    .dataframe tbody tr th:only-of-type {\n",
              "        vertical-align: middle;\n",
              "    }\n",
              "\n",
              "    .dataframe tbody tr th {\n",
              "        vertical-align: top;\n",
              "    }\n",
              "\n",
              "    .dataframe thead th {\n",
              "        text-align: right;\n",
              "    }\n",
              "</style>\n",
              "<table border=\"1\" class=\"dataframe\">\n",
              "  <thead>\n",
              "    <tr style=\"text-align: right;\">\n",
              "      <th></th>\n",
              "      <th>id</th>\n",
              "      <th>channel</th>\n",
              "      <th>topic</th>\n",
              "      <th>started_at</th>\n",
              "      <th>finished_at</th>\n",
              "      <th>total_count</th>\n",
              "      <th>subject_length</th>\n",
              "      <th>subject_with_personalization</th>\n",
              "      <th>subject_with_deadline</th>\n",
              "      <th>subject_with_emoji</th>\n",
              "      <th>subject_with_bonuses</th>\n",
              "      <th>subject_with_discount</th>\n",
              "      <th>subject_with_saleout</th>\n",
              "    </tr>\n",
              "  </thead>\n",
              "  <tbody>\n",
              "    <tr>\n",
              "      <th>0</th>\n",
              "      <td>63</td>\n",
              "      <td>mobile_push</td>\n",
              "      <td>sale out</td>\n",
              "      <td>2021-04-30 07:22:36.615023</td>\n",
              "      <td>2021-04-30 07:23:41</td>\n",
              "      <td>48211.0</td>\n",
              "      <td>146.0</td>\n",
              "      <td>False</td>\n",
              "      <td>False</td>\n",
              "      <td>True</td>\n",
              "      <td>False</td>\n",
              "      <td>False</td>\n",
              "      <td>False</td>\n",
              "    </tr>\n",
              "    <tr>\n",
              "      <th>1</th>\n",
              "      <td>64</td>\n",
              "      <td>mobile_push</td>\n",
              "      <td>sale out</td>\n",
              "      <td>2021-04-30 09:02:50.817227</td>\n",
              "      <td>2021-04-30 09:04:08</td>\n",
              "      <td>1037337.0</td>\n",
              "      <td>97.0</td>\n",
              "      <td>False</td>\n",
              "      <td>False</td>\n",
              "      <td>True</td>\n",
              "      <td>False</td>\n",
              "      <td>False</td>\n",
              "      <td>False</td>\n",
              "    </tr>\n",
              "    <tr>\n",
              "      <th>2</th>\n",
              "      <td>78</td>\n",
              "      <td>mobile_push</td>\n",
              "      <td>sale out</td>\n",
              "      <td>2021-05-06 07:14:10.533318</td>\n",
              "      <td>2021-05-06 07:15:17</td>\n",
              "      <td>70080.0</td>\n",
              "      <td>146.0</td>\n",
              "      <td>False</td>\n",
              "      <td>False</td>\n",
              "      <td>True</td>\n",
              "      <td>False</td>\n",
              "      <td>False</td>\n",
              "      <td>False</td>\n",
              "    </tr>\n",
              "    <tr>\n",
              "      <th>3</th>\n",
              "      <td>79</td>\n",
              "      <td>mobile_push</td>\n",
              "      <td>sale out</td>\n",
              "      <td>2021-05-06 09:03:56.486750</td>\n",
              "      <td>2021-05-06 09:42:15</td>\n",
              "      <td>921838.0</td>\n",
              "      <td>97.0</td>\n",
              "      <td>False</td>\n",
              "      <td>False</td>\n",
              "      <td>True</td>\n",
              "      <td>False</td>\n",
              "      <td>False</td>\n",
              "      <td>False</td>\n",
              "    </tr>\n",
              "    <tr>\n",
              "      <th>4</th>\n",
              "      <td>89</td>\n",
              "      <td>mobile_push</td>\n",
              "      <td>NaN</td>\n",
              "      <td>2021-05-07 11:54:06.168664</td>\n",
              "      <td>2021-05-07 11:54:38</td>\n",
              "      <td>45503.0</td>\n",
              "      <td>109.0</td>\n",
              "      <td>False</td>\n",
              "      <td>True</td>\n",
              "      <td>True</td>\n",
              "      <td>False</td>\n",
              "      <td>False</td>\n",
              "      <td>False</td>\n",
              "    </tr>\n",
              "    <tr>\n",
              "      <th>5</th>\n",
              "      <td>110</td>\n",
              "      <td>mobile_push</td>\n",
              "      <td>sale out</td>\n",
              "      <td>2021-05-12 07:38:32.980268</td>\n",
              "      <td>2021-05-12 07:40:16</td>\n",
              "      <td>90816.0</td>\n",
              "      <td>146.0</td>\n",
              "      <td>False</td>\n",
              "      <td>False</td>\n",
              "      <td>True</td>\n",
              "      <td>False</td>\n",
              "      <td>False</td>\n",
              "      <td>False</td>\n",
              "    </tr>\n",
              "    <tr>\n",
              "      <th>6</th>\n",
              "      <td>111</td>\n",
              "      <td>mobile_push</td>\n",
              "      <td>sale out</td>\n",
              "      <td>2021-05-12 07:44:41.865082</td>\n",
              "      <td>2021-05-12 08:16:07</td>\n",
              "      <td>1045217.0</td>\n",
              "      <td>97.0</td>\n",
              "      <td>False</td>\n",
              "      <td>False</td>\n",
              "      <td>True</td>\n",
              "      <td>False</td>\n",
              "      <td>False</td>\n",
              "      <td>False</td>\n",
              "    </tr>\n",
              "    <tr>\n",
              "      <th>7</th>\n",
              "      <td>129</td>\n",
              "      <td>email</td>\n",
              "      <td>sale out</td>\n",
              "      <td>2021-05-18 07:38:49.825780</td>\n",
              "      <td>2021-05-18 07:38:58</td>\n",
              "      <td>3.0</td>\n",
              "      <td>133.0</td>\n",
              "      <td>False</td>\n",
              "      <td>False</td>\n",
              "      <td>True</td>\n",
              "      <td>False</td>\n",
              "      <td>False</td>\n",
              "      <td>False</td>\n",
              "    </tr>\n",
              "    <tr>\n",
              "      <th>8</th>\n",
              "      <td>136</td>\n",
              "      <td>email</td>\n",
              "      <td>sale out</td>\n",
              "      <td>2021-05-19 07:00:11.121170</td>\n",
              "      <td>2021-05-19 08:03:19</td>\n",
              "      <td>177363.0</td>\n",
              "      <td>133.0</td>\n",
              "      <td>False</td>\n",
              "      <td>False</td>\n",
              "      <td>True</td>\n",
              "      <td>False</td>\n",
              "      <td>False</td>\n",
              "      <td>False</td>\n",
              "    </tr>\n",
              "    <tr>\n",
              "      <th>9</th>\n",
              "      <td>138</td>\n",
              "      <td>mobile_push</td>\n",
              "      <td>sale out</td>\n",
              "      <td>2021-05-19 07:00:11.105536</td>\n",
              "      <td>2021-05-19 07:21:42</td>\n",
              "      <td>37889.0</td>\n",
              "      <td>146.0</td>\n",
              "      <td>False</td>\n",
              "      <td>False</td>\n",
              "      <td>True</td>\n",
              "      <td>False</td>\n",
              "      <td>False</td>\n",
              "      <td>False</td>\n",
              "    </tr>\n",
              "  </tbody>\n",
              "</table>\n",
              "</div>"
            ],
            "text/plain": [
              "    id      channel     topic                  started_at  \\\n",
              "0   63  mobile_push  sale out  2021-04-30 07:22:36.615023   \n",
              "1   64  mobile_push  sale out  2021-04-30 09:02:50.817227   \n",
              "2   78  mobile_push  sale out  2021-05-06 07:14:10.533318   \n",
              "3   79  mobile_push  sale out  2021-05-06 09:03:56.486750   \n",
              "4   89  mobile_push       NaN  2021-05-07 11:54:06.168664   \n",
              "5  110  mobile_push  sale out  2021-05-12 07:38:32.980268   \n",
              "6  111  mobile_push  sale out  2021-05-12 07:44:41.865082   \n",
              "7  129        email  sale out  2021-05-18 07:38:49.825780   \n",
              "8  136        email  sale out  2021-05-19 07:00:11.121170   \n",
              "9  138  mobile_push  sale out  2021-05-19 07:00:11.105536   \n",
              "\n",
              "           finished_at  total_count  subject_length  \\\n",
              "0  2021-04-30 07:23:41      48211.0           146.0   \n",
              "1  2021-04-30 09:04:08    1037337.0            97.0   \n",
              "2  2021-05-06 07:15:17      70080.0           146.0   \n",
              "3  2021-05-06 09:42:15     921838.0            97.0   \n",
              "4  2021-05-07 11:54:38      45503.0           109.0   \n",
              "5  2021-05-12 07:40:16      90816.0           146.0   \n",
              "6  2021-05-12 08:16:07    1045217.0            97.0   \n",
              "7  2021-05-18 07:38:58          3.0           133.0   \n",
              "8  2021-05-19 08:03:19     177363.0           133.0   \n",
              "9  2021-05-19 07:21:42      37889.0           146.0   \n",
              "\n",
              "  subject_with_personalization subject_with_deadline subject_with_emoji  \\\n",
              "0                        False                 False               True   \n",
              "1                        False                 False               True   \n",
              "2                        False                 False               True   \n",
              "3                        False                 False               True   \n",
              "4                        False                  True               True   \n",
              "5                        False                 False               True   \n",
              "6                        False                 False               True   \n",
              "7                        False                 False               True   \n",
              "8                        False                 False               True   \n",
              "9                        False                 False               True   \n",
              "\n",
              "  subject_with_bonuses subject_with_discount subject_with_saleout  \n",
              "0                False                 False                False  \n",
              "1                False                 False                False  \n",
              "2                False                 False                False  \n",
              "3                False                 False                False  \n",
              "4                False                 False                False  \n",
              "5                False                 False                False  \n",
              "6                False                 False                False  \n",
              "7                False                 False                False  \n",
              "8                False                 False                False  \n",
              "9                False                 False                False  "
            ]
          },
          "metadata": {},
          "output_type": "display_data"
        }
      ],
      "source": [
        "display(campaigns_df[:10])"
      ]
    },
    {
      "cell_type": "code",
      "execution_count": 9,
      "metadata": {
        "colab": {
          "base_uri": "https://localhost:8080/"
        },
        "id": "S3_bVpL7IK6z",
        "outputId": "db1d9e87-d177-4ff1-d25a-2ce8cdb53104"
      },
      "outputs": [
        {
          "name": "stdout",
          "output_type": "stream",
          "text": [
            "campaign_id                           0\n",
            "client_id                             0\n",
            "channel_x                             0\n",
            "sent_at                               0\n",
            "is_opened                             0\n",
            "is_clicked                            0\n",
            "is_unsubscribed                       0\n",
            "is_blocked                            0\n",
            "is_purchased                          0\n",
            "purchased_at                    4493035\n",
            "id                                    0\n",
            "channel_y                             0\n",
            "topic                             28914\n",
            "started_at                      1673087\n",
            "finished_at                     1673087\n",
            "total_count                     1673087\n",
            "subject_length                   855767\n",
            "subject_with_personalization     855767\n",
            "subject_with_deadline            855767\n",
            "subject_with_emoji               855767\n",
            "subject_with_bonuses             855767\n",
            "subject_with_discount            855767\n",
            "subject_with_saleout             855767\n",
            "dtype: int64\n"
          ]
        }
      ],
      "source": [
        "merged_df = pd.merge(messages_sample, campaigns_df, left_on = \"campaign_id\", right_on= \"id\" ,how= \"inner\")\n",
        "print(merged_df.isna().sum())"
      ]
    },
    {
      "cell_type": "code",
      "execution_count": 10,
      "metadata": {
        "colab": {
          "base_uri": "https://localhost:8080/"
        },
        "id": "My0xvgeAf37-",
        "outputId": "090d57f1-7943-46e6-b1b5-758df3cf7b83"
      },
      "outputs": [
        {
          "name": "stdout",
          "output_type": "stream",
          "text": [
            "topic\n",
            "sale out                      2789394\n",
            "order ready for pickup         485936\n",
            "abandoned view                 223109\n",
            "recent purchase                189101\n",
            "abandoned category             156234\n",
            "subscribed                     120910\n",
            "order created                   97071\n",
            "abandoned cart                  96768\n",
            "bonuses expired                 67715\n",
            "order reminder                  66210\n",
            "order cancelled                 56819\n",
            "abandoned search                36260\n",
            "added to wish list              33361\n",
            "profile updated                 26197\n",
            "order shipped                   15527\n",
            "event                            6599\n",
            "order pickup still pending       1843\n",
            "price drop                         24\n",
            "wish list status                    2\n",
            "Name: count, dtype: int64\n",
            "True     3161473\n",
            "False    1336521\n",
            "Name: count, dtype: int64\n",
            "True    4497994\n",
            "Name: count, dtype: int64\n"
          ]
        }
      ],
      "source": [
        "print(merged_df['topic'].value_counts())\n",
        "# I WOULD SAY ['TOPIC'] is a pretty irrelevant column (TO_DROP())\n",
        "\n",
        "bool_channel = (merged_df['channel_x'] == merged_df['channel_y'])\n",
        "print(bool_channel.value_counts())\n",
        "# channel_x and channel_y are identical\n",
        "\n",
        "\n",
        "bool_id = (merged_df['campaign_id'] == merged_df['id'])\n",
        "print(bool_id.value_counts())\n",
        "# campaign_id and id are identical\n"
      ]
    },
    {
      "cell_type": "markdown",
      "metadata": {
        "id": "m3q8xNApf37-"
      },
      "source": [
        "### Converting string and bool values to binary\n",
        "Since the database contains a lot of string values to represent True or False, we will convert these values to binary to have an easier time understanding the database and using it to analyze the data."
      ]
    },
    {
      "cell_type": "code",
      "execution_count": 11,
      "metadata": {
        "id": "iJz_nVU5f37_"
      },
      "outputs": [
        {
          "name": "stderr",
          "output_type": "stream",
          "text": [
            "C:\\Users\\Alvaro\\AppData\\Local\\Temp\\ipykernel_7296\\3826681609.py:10: FutureWarning: DataFrame.applymap has been deprecated. Use DataFrame.map instead.\n",
            "  merged_df = merged_df.applymap(lambda x: int(x) if isinstance(x, bool) else x)\n",
            "C:\\Users\\Alvaro\\AppData\\Local\\Temp\\ipykernel_7296\\3826681609.py:11: FutureWarning: DataFrame.applymap has been deprecated. Use DataFrame.map instead.\n",
            "  merged_df = merged_df.applymap(convert_to_binary)\n"
          ]
        }
      ],
      "source": [
        "def convert_to_binary(value):\n",
        "    value_lower = str(value).lower()\n",
        "    if value_lower == 't':\n",
        "        return 1\n",
        "    elif value_lower == 'f':\n",
        "        return 0\n",
        "    else:\n",
        "        return value\n",
        "\n",
        "merged_df = merged_df.applymap(lambda x: int(x) if isinstance(x, bool) else x)\n",
        "merged_df = merged_df.applymap(convert_to_binary)\n"
      ]
    },
    {
      "cell_type": "code",
      "execution_count": 12,
      "metadata": {
        "colab": {
          "base_uri": "https://localhost:8080/",
          "height": 557
        },
        "id": "f0JdcsH9f38B",
        "outputId": "f1b15944-7448-4125-a1d9-581b3abefc3f"
      },
      "outputs": [
        {
          "data": {
            "text/html": [
              "<div>\n",
              "<style scoped>\n",
              "    .dataframe tbody tr th:only-of-type {\n",
              "        vertical-align: middle;\n",
              "    }\n",
              "\n",
              "    .dataframe tbody tr th {\n",
              "        vertical-align: top;\n",
              "    }\n",
              "\n",
              "    .dataframe thead th {\n",
              "        text-align: right;\n",
              "    }\n",
              "</style>\n",
              "<table border=\"1\" class=\"dataframe\">\n",
              "  <thead>\n",
              "    <tr style=\"text-align: right;\">\n",
              "      <th></th>\n",
              "      <th>campaign_id</th>\n",
              "      <th>client_id</th>\n",
              "      <th>channel_x</th>\n",
              "      <th>sent_at</th>\n",
              "      <th>is_opened</th>\n",
              "      <th>is_clicked</th>\n",
              "      <th>is_unsubscribed</th>\n",
              "      <th>is_blocked</th>\n",
              "      <th>is_purchased</th>\n",
              "      <th>purchased_at</th>\n",
              "      <th>id</th>\n",
              "      <th>channel_y</th>\n",
              "      <th>topic</th>\n",
              "      <th>started_at</th>\n",
              "      <th>finished_at</th>\n",
              "      <th>total_count</th>\n",
              "      <th>subject_length</th>\n",
              "      <th>subject_with_personalization</th>\n",
              "      <th>subject_with_deadline</th>\n",
              "      <th>subject_with_emoji</th>\n",
              "      <th>subject_with_bonuses</th>\n",
              "      <th>subject_with_discount</th>\n",
              "      <th>subject_with_saleout</th>\n",
              "    </tr>\n",
              "  </thead>\n",
              "  <tbody>\n",
              "    <tr>\n",
              "      <th>0</th>\n",
              "      <td>64</td>\n",
              "      <td>1515915625627233152</td>\n",
              "      <td>mobile_push</td>\n",
              "      <td>2021-04-30 08:47:49</td>\n",
              "      <td>0</td>\n",
              "      <td>0</td>\n",
              "      <td>1</td>\n",
              "      <td>0</td>\n",
              "      <td>0</td>\n",
              "      <td>NaN</td>\n",
              "      <td>64</td>\n",
              "      <td>mobile_push</td>\n",
              "      <td>sale out</td>\n",
              "      <td>2021-04-30 09:02:50.817227</td>\n",
              "      <td>2021-04-30 09:04:08</td>\n",
              "      <td>1037337.0</td>\n",
              "      <td>97.0</td>\n",
              "      <td>0.0</td>\n",
              "      <td>0.0</td>\n",
              "      <td>1.0</td>\n",
              "      <td>0.0</td>\n",
              "      <td>0.0</td>\n",
              "      <td>0.0</td>\n",
              "    </tr>\n",
              "    <tr>\n",
              "      <th>1</th>\n",
              "      <td>64</td>\n",
              "      <td>1515915625627233152</td>\n",
              "      <td>mobile_push</td>\n",
              "      <td>2021-04-30 08:47:49</td>\n",
              "      <td>0</td>\n",
              "      <td>0</td>\n",
              "      <td>1</td>\n",
              "      <td>0</td>\n",
              "      <td>0</td>\n",
              "      <td>NaN</td>\n",
              "      <td>64</td>\n",
              "      <td>email</td>\n",
              "      <td>order ready for pickup</td>\n",
              "      <td>NaN</td>\n",
              "      <td>NaN</td>\n",
              "      <td>NaN</td>\n",
              "      <td>139.0</td>\n",
              "      <td>0.0</td>\n",
              "      <td>0.0</td>\n",
              "      <td>0.0</td>\n",
              "      <td>0.0</td>\n",
              "      <td>0.0</td>\n",
              "      <td>0.0</td>\n",
              "    </tr>\n",
              "    <tr>\n",
              "      <th>2</th>\n",
              "      <td>64</td>\n",
              "      <td>1515915625490165431</td>\n",
              "      <td>mobile_push</td>\n",
              "      <td>2021-04-30 07:37:51</td>\n",
              "      <td>0</td>\n",
              "      <td>0</td>\n",
              "      <td>0</td>\n",
              "      <td>0</td>\n",
              "      <td>0</td>\n",
              "      <td>NaN</td>\n",
              "      <td>64</td>\n",
              "      <td>mobile_push</td>\n",
              "      <td>sale out</td>\n",
              "      <td>2021-04-30 09:02:50.817227</td>\n",
              "      <td>2021-04-30 09:04:08</td>\n",
              "      <td>1037337.0</td>\n",
              "      <td>97.0</td>\n",
              "      <td>0.0</td>\n",
              "      <td>0.0</td>\n",
              "      <td>1.0</td>\n",
              "      <td>0.0</td>\n",
              "      <td>0.0</td>\n",
              "      <td>0.0</td>\n",
              "    </tr>\n",
              "    <tr>\n",
              "      <th>3</th>\n",
              "      <td>64</td>\n",
              "      <td>1515915625490165431</td>\n",
              "      <td>mobile_push</td>\n",
              "      <td>2021-04-30 07:37:51</td>\n",
              "      <td>0</td>\n",
              "      <td>0</td>\n",
              "      <td>0</td>\n",
              "      <td>0</td>\n",
              "      <td>0</td>\n",
              "      <td>NaN</td>\n",
              "      <td>64</td>\n",
              "      <td>email</td>\n",
              "      <td>order ready for pickup</td>\n",
              "      <td>NaN</td>\n",
              "      <td>NaN</td>\n",
              "      <td>NaN</td>\n",
              "      <td>139.0</td>\n",
              "      <td>0.0</td>\n",
              "      <td>0.0</td>\n",
              "      <td>0.0</td>\n",
              "      <td>0.0</td>\n",
              "      <td>0.0</td>\n",
              "      <td>0.0</td>\n",
              "    </tr>\n",
              "    <tr>\n",
              "      <th>4</th>\n",
              "      <td>64</td>\n",
              "      <td>1515915625591164203</td>\n",
              "      <td>mobile_push</td>\n",
              "      <td>2021-04-30 08:18:05</td>\n",
              "      <td>0</td>\n",
              "      <td>0</td>\n",
              "      <td>0</td>\n",
              "      <td>0</td>\n",
              "      <td>0</td>\n",
              "      <td>NaN</td>\n",
              "      <td>64</td>\n",
              "      <td>mobile_push</td>\n",
              "      <td>sale out</td>\n",
              "      <td>2021-04-30 09:02:50.817227</td>\n",
              "      <td>2021-04-30 09:04:08</td>\n",
              "      <td>1037337.0</td>\n",
              "      <td>97.0</td>\n",
              "      <td>0.0</td>\n",
              "      <td>0.0</td>\n",
              "      <td>1.0</td>\n",
              "      <td>0.0</td>\n",
              "      <td>0.0</td>\n",
              "      <td>0.0</td>\n",
              "    </tr>\n",
              "    <tr>\n",
              "      <th>5</th>\n",
              "      <td>64</td>\n",
              "      <td>1515915625591164203</td>\n",
              "      <td>mobile_push</td>\n",
              "      <td>2021-04-30 08:18:05</td>\n",
              "      <td>0</td>\n",
              "      <td>0</td>\n",
              "      <td>0</td>\n",
              "      <td>0</td>\n",
              "      <td>0</td>\n",
              "      <td>NaN</td>\n",
              "      <td>64</td>\n",
              "      <td>email</td>\n",
              "      <td>order ready for pickup</td>\n",
              "      <td>NaN</td>\n",
              "      <td>NaN</td>\n",
              "      <td>NaN</td>\n",
              "      <td>139.0</td>\n",
              "      <td>0.0</td>\n",
              "      <td>0.0</td>\n",
              "      <td>0.0</td>\n",
              "      <td>0.0</td>\n",
              "      <td>0.0</td>\n",
              "      <td>0.0</td>\n",
              "    </tr>\n",
              "    <tr>\n",
              "      <th>6</th>\n",
              "      <td>64</td>\n",
              "      <td>1515915625549664968</td>\n",
              "      <td>mobile_push</td>\n",
              "      <td>2021-04-30 07:40:46</td>\n",
              "      <td>0</td>\n",
              "      <td>0</td>\n",
              "      <td>0</td>\n",
              "      <td>0</td>\n",
              "      <td>0</td>\n",
              "      <td>NaN</td>\n",
              "      <td>64</td>\n",
              "      <td>mobile_push</td>\n",
              "      <td>sale out</td>\n",
              "      <td>2021-04-30 09:02:50.817227</td>\n",
              "      <td>2021-04-30 09:04:08</td>\n",
              "      <td>1037337.0</td>\n",
              "      <td>97.0</td>\n",
              "      <td>0.0</td>\n",
              "      <td>0.0</td>\n",
              "      <td>1.0</td>\n",
              "      <td>0.0</td>\n",
              "      <td>0.0</td>\n",
              "      <td>0.0</td>\n",
              "    </tr>\n",
              "    <tr>\n",
              "      <th>7</th>\n",
              "      <td>64</td>\n",
              "      <td>1515915625549664968</td>\n",
              "      <td>mobile_push</td>\n",
              "      <td>2021-04-30 07:40:46</td>\n",
              "      <td>0</td>\n",
              "      <td>0</td>\n",
              "      <td>0</td>\n",
              "      <td>0</td>\n",
              "      <td>0</td>\n",
              "      <td>NaN</td>\n",
              "      <td>64</td>\n",
              "      <td>email</td>\n",
              "      <td>order ready for pickup</td>\n",
              "      <td>NaN</td>\n",
              "      <td>NaN</td>\n",
              "      <td>NaN</td>\n",
              "      <td>139.0</td>\n",
              "      <td>0.0</td>\n",
              "      <td>0.0</td>\n",
              "      <td>0.0</td>\n",
              "      <td>0.0</td>\n",
              "      <td>0.0</td>\n",
              "      <td>0.0</td>\n",
              "    </tr>\n",
              "    <tr>\n",
              "      <th>8</th>\n",
              "      <td>64</td>\n",
              "      <td>1515915625596253090</td>\n",
              "      <td>mobile_push</td>\n",
              "      <td>2021-04-30 08:20:41</td>\n",
              "      <td>0</td>\n",
              "      <td>0</td>\n",
              "      <td>0</td>\n",
              "      <td>0</td>\n",
              "      <td>0</td>\n",
              "      <td>NaN</td>\n",
              "      <td>64</td>\n",
              "      <td>mobile_push</td>\n",
              "      <td>sale out</td>\n",
              "      <td>2021-04-30 09:02:50.817227</td>\n",
              "      <td>2021-04-30 09:04:08</td>\n",
              "      <td>1037337.0</td>\n",
              "      <td>97.0</td>\n",
              "      <td>0.0</td>\n",
              "      <td>0.0</td>\n",
              "      <td>1.0</td>\n",
              "      <td>0.0</td>\n",
              "      <td>0.0</td>\n",
              "      <td>0.0</td>\n",
              "    </tr>\n",
              "    <tr>\n",
              "      <th>9</th>\n",
              "      <td>64</td>\n",
              "      <td>1515915625596253090</td>\n",
              "      <td>mobile_push</td>\n",
              "      <td>2021-04-30 08:20:41</td>\n",
              "      <td>0</td>\n",
              "      <td>0</td>\n",
              "      <td>0</td>\n",
              "      <td>0</td>\n",
              "      <td>0</td>\n",
              "      <td>NaN</td>\n",
              "      <td>64</td>\n",
              "      <td>email</td>\n",
              "      <td>order ready for pickup</td>\n",
              "      <td>NaN</td>\n",
              "      <td>NaN</td>\n",
              "      <td>NaN</td>\n",
              "      <td>139.0</td>\n",
              "      <td>0.0</td>\n",
              "      <td>0.0</td>\n",
              "      <td>0.0</td>\n",
              "      <td>0.0</td>\n",
              "      <td>0.0</td>\n",
              "      <td>0.0</td>\n",
              "    </tr>\n",
              "  </tbody>\n",
              "</table>\n",
              "</div>"
            ],
            "text/plain": [
              "   campaign_id            client_id    channel_x              sent_at  \\\n",
              "0           64  1515915625627233152  mobile_push  2021-04-30 08:47:49   \n",
              "1           64  1515915625627233152  mobile_push  2021-04-30 08:47:49   \n",
              "2           64  1515915625490165431  mobile_push  2021-04-30 07:37:51   \n",
              "3           64  1515915625490165431  mobile_push  2021-04-30 07:37:51   \n",
              "4           64  1515915625591164203  mobile_push  2021-04-30 08:18:05   \n",
              "5           64  1515915625591164203  mobile_push  2021-04-30 08:18:05   \n",
              "6           64  1515915625549664968  mobile_push  2021-04-30 07:40:46   \n",
              "7           64  1515915625549664968  mobile_push  2021-04-30 07:40:46   \n",
              "8           64  1515915625596253090  mobile_push  2021-04-30 08:20:41   \n",
              "9           64  1515915625596253090  mobile_push  2021-04-30 08:20:41   \n",
              "\n",
              "   is_opened  is_clicked  is_unsubscribed  is_blocked  is_purchased  \\\n",
              "0          0           0                1           0             0   \n",
              "1          0           0                1           0             0   \n",
              "2          0           0                0           0             0   \n",
              "3          0           0                0           0             0   \n",
              "4          0           0                0           0             0   \n",
              "5          0           0                0           0             0   \n",
              "6          0           0                0           0             0   \n",
              "7          0           0                0           0             0   \n",
              "8          0           0                0           0             0   \n",
              "9          0           0                0           0             0   \n",
              "\n",
              "  purchased_at  id    channel_y                   topic  \\\n",
              "0          NaN  64  mobile_push                sale out   \n",
              "1          NaN  64        email  order ready for pickup   \n",
              "2          NaN  64  mobile_push                sale out   \n",
              "3          NaN  64        email  order ready for pickup   \n",
              "4          NaN  64  mobile_push                sale out   \n",
              "5          NaN  64        email  order ready for pickup   \n",
              "6          NaN  64  mobile_push                sale out   \n",
              "7          NaN  64        email  order ready for pickup   \n",
              "8          NaN  64  mobile_push                sale out   \n",
              "9          NaN  64        email  order ready for pickup   \n",
              "\n",
              "                   started_at          finished_at  total_count  \\\n",
              "0  2021-04-30 09:02:50.817227  2021-04-30 09:04:08    1037337.0   \n",
              "1                         NaN                  NaN          NaN   \n",
              "2  2021-04-30 09:02:50.817227  2021-04-30 09:04:08    1037337.0   \n",
              "3                         NaN                  NaN          NaN   \n",
              "4  2021-04-30 09:02:50.817227  2021-04-30 09:04:08    1037337.0   \n",
              "5                         NaN                  NaN          NaN   \n",
              "6  2021-04-30 09:02:50.817227  2021-04-30 09:04:08    1037337.0   \n",
              "7                         NaN                  NaN          NaN   \n",
              "8  2021-04-30 09:02:50.817227  2021-04-30 09:04:08    1037337.0   \n",
              "9                         NaN                  NaN          NaN   \n",
              "\n",
              "   subject_length  subject_with_personalization  subject_with_deadline  \\\n",
              "0            97.0                           0.0                    0.0   \n",
              "1           139.0                           0.0                    0.0   \n",
              "2            97.0                           0.0                    0.0   \n",
              "3           139.0                           0.0                    0.0   \n",
              "4            97.0                           0.0                    0.0   \n",
              "5           139.0                           0.0                    0.0   \n",
              "6            97.0                           0.0                    0.0   \n",
              "7           139.0                           0.0                    0.0   \n",
              "8            97.0                           0.0                    0.0   \n",
              "9           139.0                           0.0                    0.0   \n",
              "\n",
              "   subject_with_emoji  subject_with_bonuses  subject_with_discount  \\\n",
              "0                 1.0                   0.0                    0.0   \n",
              "1                 0.0                   0.0                    0.0   \n",
              "2                 1.0                   0.0                    0.0   \n",
              "3                 0.0                   0.0                    0.0   \n",
              "4                 1.0                   0.0                    0.0   \n",
              "5                 0.0                   0.0                    0.0   \n",
              "6                 1.0                   0.0                    0.0   \n",
              "7                 0.0                   0.0                    0.0   \n",
              "8                 1.0                   0.0                    0.0   \n",
              "9                 0.0                   0.0                    0.0   \n",
              "\n",
              "   subject_with_saleout  \n",
              "0                   0.0  \n",
              "1                   0.0  \n",
              "2                   0.0  \n",
              "3                   0.0  \n",
              "4                   0.0  \n",
              "5                   0.0  \n",
              "6                   0.0  \n",
              "7                   0.0  \n",
              "8                   0.0  \n",
              "9                   0.0  "
            ]
          },
          "metadata": {},
          "output_type": "display_data"
        }
      ],
      "source": [
        "pd.set_option('display.max_columns', None)\n",
        "display(merged_df[:10])"
      ]
    },
    {
      "cell_type": "code",
      "execution_count": 13,
      "metadata": {
        "colab": {
          "base_uri": "https://localhost:8080/"
        },
        "id": "8xguGizsf38B",
        "outputId": "89e4bc69-fb71-457e-ffba-253a6e4ffb5f"
      },
      "outputs": [
        {
          "data": {
            "text/plain": [
              "channel_x\n",
              "email          2374731\n",
              "mobile_push    2123157\n",
              "web_push           106\n",
              "Name: count, dtype: int64"
            ]
          },
          "execution_count": 13,
          "metadata": {},
          "output_type": "execute_result"
        }
      ],
      "source": [
        "merged_df['channel_x'].value_counts()"
      ]
    },
    {
      "cell_type": "markdown",
      "metadata": {
        "id": "ROV9XIV9f38C"
      },
      "source": [
        "Need to check whether each type of `subject_type` affects `is_opened` and `is_purchased`"
      ]
    },
    {
      "cell_type": "markdown",
      "metadata": {
        "id": "A3iFabMif38D"
      },
      "source": [
        "# Analyzing the Data\n",
        "The group will now be analyzing the data in this section. We will be looking at important characteristics of the marketing campaign subjects and its effectiveness with regard to clickthrough rate which campaigns result in client purchase."
      ]
    },
    {
      "cell_type": "code",
      "execution_count": 14,
      "metadata": {
        "colab": {
          "base_uri": "https://localhost:8080/",
          "height": 143
        },
        "id": "jLf7XWLNf38E",
        "outputId": "4f7492ed-3864-4ede-9832-577068ae19d2"
      },
      "outputs": [
        {
          "data": {
            "text/html": [
              "<div>\n",
              "<style scoped>\n",
              "    .dataframe tbody tr th:only-of-type {\n",
              "        vertical-align: middle;\n",
              "    }\n",
              "\n",
              "    .dataframe tbody tr th {\n",
              "        vertical-align: top;\n",
              "    }\n",
              "\n",
              "    .dataframe thead th {\n",
              "        text-align: right;\n",
              "    }\n",
              "</style>\n",
              "<table border=\"1\" class=\"dataframe\">\n",
              "  <thead>\n",
              "    <tr style=\"text-align: right;\">\n",
              "      <th></th>\n",
              "      <th></th>\n",
              "      <th>is_purchased</th>\n",
              "    </tr>\n",
              "    <tr>\n",
              "      <th>subject_with_emoji</th>\n",
              "      <th>subject_with_personalization</th>\n",
              "      <th></th>\n",
              "    </tr>\n",
              "  </thead>\n",
              "  <tbody>\n",
              "    <tr>\n",
              "      <th>0.0</th>\n",
              "      <th>0.0</th>\n",
              "      <td>749603</td>\n",
              "    </tr>\n",
              "    <tr>\n",
              "      <th rowspan=\"2\" valign=\"top\">1.0</th>\n",
              "      <th>0.0</th>\n",
              "      <td>2890074</td>\n",
              "    </tr>\n",
              "    <tr>\n",
              "      <th>1.0</th>\n",
              "      <td>2550</td>\n",
              "    </tr>\n",
              "  </tbody>\n",
              "</table>\n",
              "</div>"
            ],
            "text/plain": [
              "                                                 is_purchased\n",
              "subject_with_emoji subject_with_personalization              \n",
              "0.0                0.0                                 749603\n",
              "1.0                0.0                                2890074\n",
              "                   1.0                                   2550"
            ]
          },
          "execution_count": 14,
          "metadata": {},
          "output_type": "execute_result"
        }
      ],
      "source": [
        "pd.pivot_table(merged_df,\n",
        "                values='is_purchased',\n",
        "                index=['subject_with_emoji', 'subject_with_personalization'],\n",
        "                aggfunc='count')"
      ]
    },
    {
      "cell_type": "code",
      "execution_count": 15,
      "metadata": {
        "colab": {
          "base_uri": "https://localhost:8080/",
          "height": 173
        },
        "id": "cN-xbwEof38F",
        "outputId": "f17a24a0-4c21-42a0-944a-f18c9787bd97"
      },
      "outputs": [
        {
          "data": {
            "text/plain": [
              "subject_with_bonuses  is_purchased\n",
              "0.0                   0               3571529\n",
              "                      1                  2983\n",
              "1.0                   0                 67653\n",
              "                      1                    62\n",
              "Name: count, dtype: int64"
            ]
          },
          "metadata": {},
          "output_type": "display_data"
        },
        {
          "data": {
            "text/plain": [
              "subject_with_emoji  is_purchased\n",
              "0.0                 0                747604\n",
              "                    1                  1999\n",
              "1.0                 0               2891578\n",
              "                    1                  1046\n",
              "Name: count, dtype: int64"
            ]
          },
          "metadata": {},
          "output_type": "display_data"
        }
      ],
      "source": [
        "# can remove since every row has an emoji\n",
        "emoji = merged_df.groupby(\"subject_with_emoji\")['is_purchased'].value_counts()\n",
        "\n",
        "# can remove since none have bonuses lol\n",
        "bonuses = merged_df.groupby(\"subject_with_bonuses\")['is_purchased'].value_counts()\n",
        "display(bonuses)\n",
        "display(emoji)"
      ]
    },
    {
      "cell_type": "markdown",
      "metadata": {
        "id": "ephOkpaxf38F"
      },
      "source": [
        "### Marketing effect on Purchases\n",
        "We will look at the effectiveness of advertising **<u>subject customization</u>** on sales."
      ]
    },
    {
      "cell_type": "code",
      "execution_count": 16,
      "metadata": {
        "id": "-t4eTtn2f38G"
      },
      "outputs": [],
      "source": [
        "personalization = merged_df.groupby('subject_with_personalization')['is_purchased'].value_counts()\n",
        "deadline = merged_df.groupby(\"subject_with_deadline\")['is_purchased'].value_counts()\n",
        "discounts = merged_df.groupby(\"subject_with_discount\")['is_purchased'].value_counts()\n",
        "saleout = merged_df.groupby('subject_with_saleout')['is_purchased'].value_counts()\n",
        "\n",
        "result = pd.concat([personalization, deadline, discounts, saleout], axis=1, keys=['personalization', 'deadline', 'discount', 'saleout'])\n",
        "index = pd.MultiIndex.from_tuples([(0, 0), (0, 1), (1, 0), (1, 1)], names=['is_purchased', ''])\n",
        "final_result = pd.DataFrame(result, index=index)\n",
        "final_result = final_result.unstack().fillna(0).astype(int)"
      ]
    },
    {
      "cell_type": "code",
      "execution_count": 17,
      "metadata": {
        "colab": {
          "base_uri": "https://localhost:8080/",
          "height": 175
        },
        "id": "W1PKOTndf38G",
        "outputId": "b949adc0-d76d-4b4b-83f2-bbe59ae3e852"
      },
      "outputs": [
        {
          "data": {
            "text/html": [
              "<div>\n",
              "<style scoped>\n",
              "    .dataframe tbody tr th:only-of-type {\n",
              "        vertical-align: middle;\n",
              "    }\n",
              "\n",
              "    .dataframe tbody tr th {\n",
              "        vertical-align: top;\n",
              "    }\n",
              "\n",
              "    .dataframe thead tr th {\n",
              "        text-align: left;\n",
              "    }\n",
              "\n",
              "    .dataframe thead tr:last-of-type th {\n",
              "        text-align: right;\n",
              "    }\n",
              "</style>\n",
              "<table border=\"1\" class=\"dataframe\">\n",
              "  <thead>\n",
              "    <tr>\n",
              "      <th></th>\n",
              "      <th colspan=\"2\" halign=\"left\">personalization</th>\n",
              "      <th colspan=\"2\" halign=\"left\">deadline</th>\n",
              "      <th colspan=\"2\" halign=\"left\">discount</th>\n",
              "      <th colspan=\"2\" halign=\"left\">saleout</th>\n",
              "    </tr>\n",
              "    <tr>\n",
              "      <th></th>\n",
              "      <th>0</th>\n",
              "      <th>1</th>\n",
              "      <th>0</th>\n",
              "      <th>1</th>\n",
              "      <th>0</th>\n",
              "      <th>1</th>\n",
              "      <th>0</th>\n",
              "      <th>1</th>\n",
              "    </tr>\n",
              "    <tr>\n",
              "      <th>is_purchased</th>\n",
              "      <th></th>\n",
              "      <th></th>\n",
              "      <th></th>\n",
              "      <th></th>\n",
              "      <th></th>\n",
              "      <th></th>\n",
              "      <th></th>\n",
              "      <th></th>\n",
              "    </tr>\n",
              "  </thead>\n",
              "  <tbody>\n",
              "    <tr>\n",
              "      <th>0</th>\n",
              "      <td>3636635</td>\n",
              "      <td>3042</td>\n",
              "      <td>3529545</td>\n",
              "      <td>2787</td>\n",
              "      <td>3626754</td>\n",
              "      <td>3042</td>\n",
              "      <td>3546353</td>\n",
              "      <td>3034</td>\n",
              "    </tr>\n",
              "    <tr>\n",
              "      <th>1</th>\n",
              "      <td>2547</td>\n",
              "      <td>3</td>\n",
              "      <td>109637</td>\n",
              "      <td>258</td>\n",
              "      <td>12428</td>\n",
              "      <td>3</td>\n",
              "      <td>92829</td>\n",
              "      <td>11</td>\n",
              "    </tr>\n",
              "  </tbody>\n",
              "</table>\n",
              "</div>"
            ],
            "text/plain": [
              "             personalization       deadline       discount        saleout  \\\n",
              "                           0     1        0     1        0     1        0   \n",
              "is_purchased                                                                \n",
              "0                    3636635  3042  3529545  2787  3626754  3042  3546353   \n",
              "1                       2547     3   109637   258    12428     3    92829   \n",
              "\n",
              "                    \n",
              "                 1  \n",
              "is_purchased        \n",
              "0             3034  \n",
              "1               11  "
            ]
          },
          "metadata": {},
          "output_type": "display_data"
        }
      ],
      "source": [
        "display(final_result)"
      ]
    },
    {
      "cell_type": "markdown",
      "metadata": {
        "id": "1-8v7a92f38G"
      },
      "source": [
        "After getting the correct dataframe with the effects of subject customization, we will then look at the improvement on sales per customization type (e.g. message personalization, messages with deadlines, message with discounts, message with saleouts)."
      ]
    },
    {
      "cell_type": "code",
      "execution_count": 18,
      "metadata": {
        "colab": {
          "base_uri": "https://localhost:8080/",
          "height": 314
        },
        "id": "etKf06k6f38H",
        "outputId": "20b24c24-eca7-4a96-c99d-7e6d40dc5b63"
      },
      "outputs": [
        {
          "data": {
            "text/html": [
              "<div>\n",
              "<style scoped>\n",
              "    .dataframe tbody tr th:only-of-type {\n",
              "        vertical-align: middle;\n",
              "    }\n",
              "\n",
              "    .dataframe tbody tr th {\n",
              "        vertical-align: top;\n",
              "    }\n",
              "\n",
              "    .dataframe thead th {\n",
              "        text-align: right;\n",
              "    }\n",
              "</style>\n",
              "<table border=\"1\" class=\"dataframe\">\n",
              "  <thead>\n",
              "    <tr style=\"text-align: right;\">\n",
              "      <th></th>\n",
              "      <th>is_purchased</th>\n",
              "      <th>0</th>\n",
              "      <th>1</th>\n",
              "    </tr>\n",
              "    <tr>\n",
              "      <th></th>\n",
              "      <th></th>\n",
              "      <th></th>\n",
              "      <th></th>\n",
              "    </tr>\n",
              "  </thead>\n",
              "  <tbody>\n",
              "    <tr>\n",
              "      <th rowspan=\"2\" valign=\"top\">personalization</th>\n",
              "      <th>0</th>\n",
              "      <td>0.999300</td>\n",
              "      <td>0.000700</td>\n",
              "    </tr>\n",
              "    <tr>\n",
              "      <th>1</th>\n",
              "      <td>0.999015</td>\n",
              "      <td>0.000985</td>\n",
              "    </tr>\n",
              "    <tr>\n",
              "      <th rowspan=\"2\" valign=\"top\">deadline</th>\n",
              "      <th>0</th>\n",
              "      <td>0.969873</td>\n",
              "      <td>0.030127</td>\n",
              "    </tr>\n",
              "    <tr>\n",
              "      <th>1</th>\n",
              "      <td>0.915271</td>\n",
              "      <td>0.084729</td>\n",
              "    </tr>\n",
              "    <tr>\n",
              "      <th rowspan=\"2\" valign=\"top\">discount</th>\n",
              "      <th>0</th>\n",
              "      <td>0.996585</td>\n",
              "      <td>0.003415</td>\n",
              "    </tr>\n",
              "    <tr>\n",
              "      <th>1</th>\n",
              "      <td>0.999015</td>\n",
              "      <td>0.000985</td>\n",
              "    </tr>\n",
              "    <tr>\n",
              "      <th rowspan=\"2\" valign=\"top\">saleout</th>\n",
              "      <th>0</th>\n",
              "      <td>0.974492</td>\n",
              "      <td>0.025508</td>\n",
              "    </tr>\n",
              "    <tr>\n",
              "      <th>1</th>\n",
              "      <td>0.996388</td>\n",
              "      <td>0.003612</td>\n",
              "    </tr>\n",
              "  </tbody>\n",
              "</table>\n",
              "</div>"
            ],
            "text/plain": [
              "is_purchased              0         1\n",
              "                                     \n",
              "personalization 0  0.999300  0.000700\n",
              "                1  0.999015  0.000985\n",
              "deadline        0  0.969873  0.030127\n",
              "                1  0.915271  0.084729\n",
              "discount        0  0.996585  0.003415\n",
              "                1  0.999015  0.000985\n",
              "saleout         0  0.974492  0.025508\n",
              "                1  0.996388  0.003612"
            ]
          },
          "metadata": {},
          "output_type": "display_data"
        }
      ],
      "source": [
        "final_result = final_result.transpose()\n",
        "diff = final_result.div(final_result.sum(1),axis=0)\n",
        "display(final_result.div(final_result.sum(1),axis=0))"
      ]
    },
    {
      "cell_type": "markdown",
      "metadata": {
        "id": "iSwxZ77lf38H"
      },
      "source": [
        "<strong>Marketing results on Sales</strong>"
      ]
    },
    {
      "cell_type": "code",
      "execution_count": 19,
      "metadata": {
        "colab": {
          "base_uri": "https://localhost:8080/",
          "height": 699
        },
        "id": "17vkURief38H",
        "outputId": "fe9d1cc8-204a-4b63-9344-db05e70dd2c3"
      },
      "outputs": [
        {
          "data": {
            "text/html": [
              "<div>\n",
              "<style scoped>\n",
              "    .dataframe tbody tr th:only-of-type {\n",
              "        vertical-align: middle;\n",
              "    }\n",
              "\n",
              "    .dataframe tbody tr th {\n",
              "        vertical-align: top;\n",
              "    }\n",
              "\n",
              "    .dataframe thead th {\n",
              "        text-align: right;\n",
              "    }\n",
              "</style>\n",
              "<table border=\"1\" class=\"dataframe\">\n",
              "  <thead>\n",
              "    <tr style=\"text-align: right;\">\n",
              "      <th></th>\n",
              "      <th>Difference</th>\n",
              "      <th>Percent Increase</th>\n",
              "    </tr>\n",
              "  </thead>\n",
              "  <tbody>\n",
              "    <tr>\n",
              "      <th>Personalization</th>\n",
              "      <td>0.000285</td>\n",
              "      <td>40.769571</td>\n",
              "    </tr>\n",
              "    <tr>\n",
              "      <th>Deadline</th>\n",
              "      <td>0.054602</td>\n",
              "      <td>181.241264</td>\n",
              "    </tr>\n",
              "    <tr>\n",
              "      <th>Discount</th>\n",
              "      <td>-0.002430</td>\n",
              "      <td>-71.150620</td>\n",
              "    </tr>\n",
              "    <tr>\n",
              "      <th>Saleout</th>\n",
              "      <td>-0.021896</td>\n",
              "      <td>-85.837971</td>\n",
              "    </tr>\n",
              "  </tbody>\n",
              "</table>\n",
              "</div>"
            ],
            "text/plain": [
              "                 Difference  Percent Increase\n",
              "Personalization    0.000285         40.769571\n",
              "Deadline           0.054602        181.241264\n",
              "Discount          -0.002430        -71.150620\n",
              "Saleout           -0.021896        -85.837971"
            ]
          },
          "metadata": {},
          "output_type": "display_data"
        },
        {
          "data": {
            "image/png": "[encoded data removed]",
            "text/plain": [
              "<Figure size 800x500 with 1 Axes>"
            ]
          },
          "metadata": {},
          "output_type": "display_data"
        }
      ],
      "source": [
        "def getdiff(diff_df, feature):\n",
        "    diff_1 = diff_df[1][(feature, 1)] - diff_df[1][(feature, 0)]\n",
        "    percentage_inc = (diff_1 / diff_df[1][(feature, 0)]) * 100\n",
        "    return diff_1, percentage_inc\n",
        "\n",
        "personalization_diff, personalization_percent_inc = getdiff(diff, 'personalization')\n",
        "deadline_diff, deadline_percent_inc = getdiff(diff, 'deadline')\n",
        "discount_diff, discount_percent_inc = getdiff(diff, 'discount')\n",
        "saleout_diff, saleout_percent_inc = getdiff(diff, 'saleout')\n",
        "\n",
        "sales_performance = pd.DataFrame({'Difference': [personalization_diff, deadline_diff, discount_diff, saleout_diff],\n",
        "                                  'Percent Increase': [personalization_percent_inc,deadline_percent_inc, discount_percent_inc, saleout_percent_inc]},\n",
        "                                  index = ['Personalization', 'Deadline', 'Discount', 'Saleout'])\n",
        "\n",
        "display(sales_performance)\n",
        "\n",
        "sales_performance['Percent Increase'].plot(kind='bar', figsize=(8, 5))\n",
        "plt.title('Sales Performance by Feature')\n",
        "plt.xlabel('Feature')\n",
        "plt.ylabel('Values')\n",
        "plt.xticks(rotation=0)\n",
        "plt.grid(axis='y', linestyle='--')\n",
        "plt.tight_layout()\n",
        "plt.show()"
      ]
    },
    {
      "cell_type": "markdown",
      "metadata": {
        "id": "4Vyb-vL5f38I"
      },
      "source": [
        "### Marketing Performance on Clickthrough Rate\n"
      ]
    },
    {
      "cell_type": "code",
      "execution_count": 20,
      "metadata": {
        "id": "dVSggpfvf38I"
      },
      "outputs": [],
      "source": [
        "personalization = merged_df.groupby('subject_with_personalization')['is_clicked'].value_counts()\n",
        "deadline = merged_df.groupby(\"subject_with_deadline\")['is_clicked'].value_counts()\n",
        "discounts = merged_df.groupby(\"subject_with_discount\")['is_clicked'].value_counts()\n",
        "saleout = merged_df.groupby('subject_with_saleout')['is_clicked'].value_counts()\n",
        "\n",
        "result = pd.concat([personalization, deadline, discounts, saleout], axis=1, keys=['personalization', 'deadline', 'discount', 'saleout'])\n",
        "index = pd.MultiIndex.from_tuples([(0, 0), (0, 1), (1, 0), (1, 1)], names=['is_clicked', ''])\n",
        "final_result = pd.DataFrame(result, index=index)\n",
        "final_result = final_result.unstack().fillna(0).astype(int)"
      ]
    },
    {
      "cell_type": "code",
      "execution_count": 21,
      "metadata": {
        "colab": {
          "base_uri": "https://localhost:8080/",
          "height": 314
        },
        "id": "zYz5ueH6f38I",
        "outputId": "ab266c3f-322e-4632-ed95-7da8ed8d08c1"
      },
      "outputs": [
        {
          "data": {
            "text/html": [
              "<div>\n",
              "<style scoped>\n",
              "    .dataframe tbody tr th:only-of-type {\n",
              "        vertical-align: middle;\n",
              "    }\n",
              "\n",
              "    .dataframe tbody tr th {\n",
              "        vertical-align: top;\n",
              "    }\n",
              "\n",
              "    .dataframe thead th {\n",
              "        text-align: right;\n",
              "    }\n",
              "</style>\n",
              "<table border=\"1\" class=\"dataframe\">\n",
              "  <thead>\n",
              "    <tr style=\"text-align: right;\">\n",
              "      <th></th>\n",
              "      <th>is_clicked</th>\n",
              "      <th>0</th>\n",
              "      <th>1</th>\n",
              "    </tr>\n",
              "    <tr>\n",
              "      <th></th>\n",
              "      <th></th>\n",
              "      <th></th>\n",
              "      <th></th>\n",
              "    </tr>\n",
              "  </thead>\n",
              "  <tbody>\n",
              "    <tr>\n",
              "      <th rowspan=\"2\" valign=\"top\">personalization</th>\n",
              "      <th>0</th>\n",
              "      <td>0.999328</td>\n",
              "      <td>0.000672</td>\n",
              "    </tr>\n",
              "    <tr>\n",
              "      <th>1</th>\n",
              "      <td>0.997376</td>\n",
              "      <td>0.002624</td>\n",
              "    </tr>\n",
              "    <tr>\n",
              "      <th rowspan=\"2\" valign=\"top\">deadline</th>\n",
              "      <th>0</th>\n",
              "      <td>0.970364</td>\n",
              "      <td>0.029636</td>\n",
              "    </tr>\n",
              "    <tr>\n",
              "      <th>1</th>\n",
              "      <td>0.933224</td>\n",
              "      <td>0.066776</td>\n",
              "    </tr>\n",
              "    <tr>\n",
              "      <th rowspan=\"2\" valign=\"top\">discount</th>\n",
              "      <th>0</th>\n",
              "      <td>0.996609</td>\n",
              "      <td>0.003391</td>\n",
              "    </tr>\n",
              "    <tr>\n",
              "      <th>1</th>\n",
              "      <td>0.995114</td>\n",
              "      <td>0.004886</td>\n",
              "    </tr>\n",
              "    <tr>\n",
              "      <th rowspan=\"2\" valign=\"top\">saleout</th>\n",
              "      <th>0</th>\n",
              "      <td>0.974365</td>\n",
              "      <td>0.025635</td>\n",
              "    </tr>\n",
              "    <tr>\n",
              "      <th>1</th>\n",
              "      <td>0.984409</td>\n",
              "      <td>0.015591</td>\n",
              "    </tr>\n",
              "  </tbody>\n",
              "</table>\n",
              "</div>"
            ],
            "text/plain": [
              "is_clicked                0         1\n",
              "                                     \n",
              "personalization 0  0.999328  0.000672\n",
              "                1  0.997376  0.002624\n",
              "deadline        0  0.970364  0.029636\n",
              "                1  0.933224  0.066776\n",
              "discount        0  0.996609  0.003391\n",
              "                1  0.995114  0.004886\n",
              "saleout         0  0.974365  0.025635\n",
              "                1  0.984409  0.015591"
            ]
          },
          "metadata": {},
          "output_type": "display_data"
        }
      ],
      "source": [
        "final_result = final_result.transpose()\n",
        "diff = final_result.div(final_result.sum(1),axis=0)\n",
        "display(final_result.div(final_result.sum(1),axis=0))"
      ]
    },
    {
      "cell_type": "code",
      "execution_count": 22,
      "metadata": {
        "colab": {
          "base_uri": "https://localhost:8080/",
          "height": 209
        },
        "id": "pkJKuWDnf38J",
        "outputId": "333421d7-c345-414b-b207-3521eddba407"
      },
      "outputs": [
        {
          "data": {
            "text/html": [
              "<div>\n",
              "<style scoped>\n",
              "    .dataframe tbody tr th:only-of-type {\n",
              "        vertical-align: middle;\n",
              "    }\n",
              "\n",
              "    .dataframe tbody tr th {\n",
              "        vertical-align: top;\n",
              "    }\n",
              "\n",
              "    .dataframe thead th {\n",
              "        text-align: right;\n",
              "    }\n",
              "</style>\n",
              "<table border=\"1\" class=\"dataframe\">\n",
              "  <thead>\n",
              "    <tr style=\"text-align: right;\">\n",
              "      <th></th>\n",
              "      <th>Difference</th>\n",
              "      <th>Percent Increase</th>\n",
              "    </tr>\n",
              "  </thead>\n",
              "  <tbody>\n",
              "    <tr>\n",
              "      <th>Personalization</th>\n",
              "      <td>0.001952</td>\n",
              "      <td>290.495137</td>\n",
              "    </tr>\n",
              "    <tr>\n",
              "      <th>Deadline</th>\n",
              "      <td>0.037140</td>\n",
              "      <td>125.318121</td>\n",
              "    </tr>\n",
              "    <tr>\n",
              "      <th>Discount</th>\n",
              "      <td>0.001495</td>\n",
              "      <td>44.083309</td>\n",
              "    </tr>\n",
              "    <tr>\n",
              "      <th>Saleout</th>\n",
              "      <td>-0.010044</td>\n",
              "      <td>-39.180132</td>\n",
              "    </tr>\n",
              "  </tbody>\n",
              "</table>\n",
              "</div>"
            ],
            "text/plain": [
              "                 Difference  Percent Increase\n",
              "Personalization    0.001952        290.495137\n",
              "Deadline           0.037140        125.318121\n",
              "Discount           0.001495         44.083309\n",
              "Saleout           -0.010044        -39.180132"
            ]
          },
          "metadata": {},
          "output_type": "display_data"
        }
      ],
      "source": [
        "def getdiff(diff_df, feature):\n",
        "    diff_1 = diff_df[1][(feature, 1)] - diff_df[1][(feature, 0)]\n",
        "    percentage_inc = (diff_1 / diff_df[1][(feature, 0)]) * 100\n",
        "    return diff_1, percentage_inc\n",
        "\n",
        "personalization_diff, personalization_percent_inc = getdiff(diff, 'personalization')\n",
        "deadline_diff, deadline_percent_inc = getdiff(diff, 'deadline')\n",
        "discount_diff, discount_percent_inc = getdiff(diff, 'discount')\n",
        "saleout_diff, saleout_percent_inc = getdiff(diff, 'saleout')\n",
        "\n",
        "sales_performance = pd.DataFrame({'Difference': [personalization_diff, deadline_diff, discount_diff, saleout_diff],\n",
        "                                  'Percent Increase': [personalization_percent_inc,deadline_percent_inc, discount_percent_inc, saleout_percent_inc]},\n",
        "                                  index = ['Personalization', 'Deadline', 'Discount', 'Saleout'])\n",
        "display(sales_performance)"
      ]
    },
    {
      "cell_type": "markdown",
      "metadata": {
        "id": "YqyXV737f38J"
      },
      "source": [
        "### Marketing Performance on Customer Engagement"
      ]
    },
    {
      "cell_type": "code",
      "execution_count": 23,
      "metadata": {
        "id": "PbosoKhDf38J"
      },
      "outputs": [],
      "source": [
        "personalization = merged_df.groupby('subject_with_personalization')['is_unsubscribed'].value_counts()\n",
        "deadline = merged_df.groupby(\"subject_with_deadline\")['is_unsubscribed'].value_counts()\n",
        "discounts = merged_df.groupby(\"subject_with_discount\")['is_unsubscribed'].value_counts()\n",
        "saleout = merged_df.groupby('subject_with_saleout')['is_unsubscribed'].value_counts()\n",
        "\n",
        "result = pd.concat([personalization, deadline, discounts, saleout], axis=1, keys=['personalization', 'deadline', 'discount', 'saleout'])\n",
        "index = pd.MultiIndex.from_tuples([(0, 0), (0, 1), (1, 0), (1, 1)], names=['is_unsubscribed', ''])\n",
        "final_result = pd.DataFrame(result, index=index)\n",
        "final_result = final_result.unstack().fillna(0).astype(int)"
      ]
    },
    {
      "cell_type": "code",
      "execution_count": 24,
      "metadata": {
        "colab": {
          "base_uri": "https://localhost:8080/",
          "height": 314
        },
        "id": "RzX7HopZf38K",
        "outputId": "cfb84507-3f12-40f6-cf92-4e077cc3863b"
      },
      "outputs": [
        {
          "data": {
            "text/html": [
              "<div>\n",
              "<style scoped>\n",
              "    .dataframe tbody tr th:only-of-type {\n",
              "        vertical-align: middle;\n",
              "    }\n",
              "\n",
              "    .dataframe tbody tr th {\n",
              "        vertical-align: top;\n",
              "    }\n",
              "\n",
              "    .dataframe thead th {\n",
              "        text-align: right;\n",
              "    }\n",
              "</style>\n",
              "<table border=\"1\" class=\"dataframe\">\n",
              "  <thead>\n",
              "    <tr style=\"text-align: right;\">\n",
              "      <th></th>\n",
              "      <th>is_unsubscribed</th>\n",
              "      <th>0</th>\n",
              "      <th>1</th>\n",
              "    </tr>\n",
              "    <tr>\n",
              "      <th></th>\n",
              "      <th></th>\n",
              "      <th></th>\n",
              "      <th></th>\n",
              "    </tr>\n",
              "  </thead>\n",
              "  <tbody>\n",
              "    <tr>\n",
              "      <th rowspan=\"2\" valign=\"top\">personalization</th>\n",
              "      <th>0</th>\n",
              "      <td>0.999264</td>\n",
              "      <td>0.000736</td>\n",
              "    </tr>\n",
              "    <tr>\n",
              "      <th>1</th>\n",
              "      <td>0.999973</td>\n",
              "      <td>0.000027</td>\n",
              "    </tr>\n",
              "    <tr>\n",
              "      <th rowspan=\"2\" valign=\"top\">deadline</th>\n",
              "      <th>0</th>\n",
              "      <td>0.968276</td>\n",
              "      <td>0.031724</td>\n",
              "    </tr>\n",
              "    <tr>\n",
              "      <th>1</th>\n",
              "      <td>0.998698</td>\n",
              "      <td>0.001302</td>\n",
              "    </tr>\n",
              "    <tr>\n",
              "      <th rowspan=\"2\" valign=\"top\">discount</th>\n",
              "      <th>0</th>\n",
              "      <td>0.996516</td>\n",
              "      <td>0.003484</td>\n",
              "    </tr>\n",
              "    <tr>\n",
              "      <th>1</th>\n",
              "      <td>0.997912</td>\n",
              "      <td>0.002088</td>\n",
              "    </tr>\n",
              "    <tr>\n",
              "      <th rowspan=\"2\" valign=\"top\">saleout</th>\n",
              "      <th>0</th>\n",
              "      <td>0.973227</td>\n",
              "      <td>0.026773</td>\n",
              "    </tr>\n",
              "    <tr>\n",
              "      <th>1</th>\n",
              "      <td>0.998375</td>\n",
              "      <td>0.001625</td>\n",
              "    </tr>\n",
              "  </tbody>\n",
              "</table>\n",
              "</div>"
            ],
            "text/plain": [
              "is_unsubscribed           0         1\n",
              "                                     \n",
              "personalization 0  0.999264  0.000736\n",
              "                1  0.999973  0.000027\n",
              "deadline        0  0.968276  0.031724\n",
              "                1  0.998698  0.001302\n",
              "discount        0  0.996516  0.003484\n",
              "                1  0.997912  0.002088\n",
              "saleout         0  0.973227  0.026773\n",
              "                1  0.998375  0.001625"
            ]
          },
          "metadata": {},
          "output_type": "display_data"
        }
      ],
      "source": [
        "final_result = final_result.transpose()\n",
        "diff = final_result.div(final_result.sum(1),axis=0)\n",
        "display(final_result.div(final_result.sum(1),axis=0))"
      ]
    },
    {
      "cell_type": "code",
      "execution_count": 25,
      "metadata": {
        "colab": {
          "base_uri": "https://localhost:8080/",
          "height": 665
        },
        "id": "9LhmqTFqf38K",
        "outputId": "bf50c77c-e157-4bd5-a482-46f9cce9522f"
      },
      "outputs": [
        {
          "data": {
            "text/html": [
              "<div>\n",
              "<style scoped>\n",
              "    .dataframe tbody tr th:only-of-type {\n",
              "        vertical-align: middle;\n",
              "    }\n",
              "\n",
              "    .dataframe tbody tr th {\n",
              "        vertical-align: top;\n",
              "    }\n",
              "\n",
              "    .dataframe thead th {\n",
              "        text-align: right;\n",
              "    }\n",
              "</style>\n",
              "<table border=\"1\" class=\"dataframe\">\n",
              "  <thead>\n",
              "    <tr style=\"text-align: right;\">\n",
              "      <th></th>\n",
              "      <th>Difference</th>\n",
              "      <th>Percent Increase</th>\n",
              "    </tr>\n",
              "  </thead>\n",
              "  <tbody>\n",
              "    <tr>\n",
              "      <th>Personalization</th>\n",
              "      <td>0.000709</td>\n",
              "      <td>0.070992</td>\n",
              "    </tr>\n",
              "    <tr>\n",
              "      <th>Deadline</th>\n",
              "      <td>0.030422</td>\n",
              "      <td>3.141859</td>\n",
              "    </tr>\n",
              "    <tr>\n",
              "      <th>Discount</th>\n",
              "      <td>0.001396</td>\n",
              "      <td>0.140081</td>\n",
              "    </tr>\n",
              "    <tr>\n",
              "      <th>Saleout</th>\n",
              "      <td>0.025147</td>\n",
              "      <td>2.583906</td>\n",
              "    </tr>\n",
              "  </tbody>\n",
              "</table>\n",
              "</div>"
            ],
            "text/plain": [
              "                 Difference  Percent Increase\n",
              "Personalization    0.000709          0.070992\n",
              "Deadline           0.030422          3.141859\n",
              "Discount           0.001396          0.140081\n",
              "Saleout            0.025147          2.583906"
            ]
          },
          "metadata": {},
          "output_type": "display_data"
        },
        {
          "data": {
            "image/png": "[encoded data removed]",
            "text/plain": [
              "<Figure size 800x500 with 1 Axes>"
            ]
          },
          "metadata": {},
          "output_type": "display_data"
        }
      ],
      "source": [
        "def getdiff(diff_df, feature):\n",
        "    diff_1 = diff_df[0][(feature, 1)] - diff_df[0][(feature, 0)]\n",
        "    percentage_inc = (diff_1 / diff_df[0][(feature, 0)]) * 100\n",
        "    return diff_1, percentage_inc\n",
        "\n",
        "personalization_diff, personalization_percent_inc = getdiff(diff, 'personalization')\n",
        "deadline_diff, deadline_percent_inc = getdiff(diff, 'deadline')\n",
        "discount_diff, discount_percent_inc = getdiff(diff, 'discount')\n",
        "saleout_diff, saleout_percent_inc = getdiff(diff, 'saleout')\n",
        "\n",
        "sales_performance = pd.DataFrame({'Difference': [personalization_diff, deadline_diff, discount_diff, saleout_diff],\n",
        "                                  'Percent Increase': [personalization_percent_inc,deadline_percent_inc, discount_percent_inc, saleout_percent_inc]},\n",
        "                                  index = ['Personalization', 'Deadline', 'Discount', 'Saleout'])\n",
        "display(sales_performance)\n",
        "\n",
        "sales_performance['Percent Increase'].plot(kind='bar', figsize=(8, 5))\n",
        "plt.title('Sales Performance by Feature')\n",
        "plt.xlabel('Feature')\n",
        "plt.ylabel('Values')\n",
        "plt.xticks(rotation=0)\n",
        "plt.grid(axis='y', linestyle='--')\n",
        "plt.tight_layout()\n",
        "plt.show()"
      ]
    },
    {
      "cell_type": "markdown",
      "metadata": {
        "id": "vZbPrmUgf38K"
      },
      "source": [
        "### Marketing Performance based on Channel Type\n"
      ]
    },
    {
      "cell_type": "code",
      "execution_count": 26,
      "metadata": {
        "colab": {
          "base_uri": "https://localhost:8080/",
          "height": 206
        },
        "id": "z_eej7tsf38K",
        "outputId": "38f8856f-db47-45ea-aba1-43b5cfd9b50b"
      },
      "outputs": [
        {
          "data": {
            "text/html": [
              "<div>\n",
              "<style scoped>\n",
              "    .dataframe tbody tr th:only-of-type {\n",
              "        vertical-align: middle;\n",
              "    }\n",
              "\n",
              "    .dataframe tbody tr th {\n",
              "        vertical-align: top;\n",
              "    }\n",
              "\n",
              "    .dataframe thead th {\n",
              "        text-align: right;\n",
              "    }\n",
              "</style>\n",
              "<table border=\"1\" class=\"dataframe\">\n",
              "  <thead>\n",
              "    <tr style=\"text-align: right;\">\n",
              "      <th></th>\n",
              "      <th></th>\n",
              "      <th>purchased</th>\n",
              "      <th>clicked</th>\n",
              "    </tr>\n",
              "    <tr>\n",
              "      <th>channel_x</th>\n",
              "      <th></th>\n",
              "      <th></th>\n",
              "      <th></th>\n",
              "    </tr>\n",
              "  </thead>\n",
              "  <tbody>\n",
              "    <tr>\n",
              "      <th rowspan=\"2\" valign=\"top\">email</th>\n",
              "      <th>0</th>\n",
              "      <td>2369772.0</td>\n",
              "      <td>2282113</td>\n",
              "    </tr>\n",
              "    <tr>\n",
              "      <th>1</th>\n",
              "      <td>4959.0</td>\n",
              "      <td>92618</td>\n",
              "    </tr>\n",
              "    <tr>\n",
              "      <th>mobile_push</th>\n",
              "      <th>0</th>\n",
              "      <td>2123157.0</td>\n",
              "      <td>2120848</td>\n",
              "    </tr>\n",
              "    <tr>\n",
              "      <th>web_push</th>\n",
              "      <th>0</th>\n",
              "      <td>106.0</td>\n",
              "      <td>106</td>\n",
              "    </tr>\n",
              "    <tr>\n",
              "      <th>mobile_push</th>\n",
              "      <th>1</th>\n",
              "      <td>NaN</td>\n",
              "      <td>2309</td>\n",
              "    </tr>\n",
              "  </tbody>\n",
              "</table>\n",
              "</div>"
            ],
            "text/plain": [
              "               purchased  clicked\n",
              "channel_x                        \n",
              "email       0  2369772.0  2282113\n",
              "            1     4959.0    92618\n",
              "mobile_push 0  2123157.0  2120848\n",
              "web_push    0      106.0      106\n",
              "mobile_push 1        NaN     2309"
            ]
          },
          "metadata": {},
          "output_type": "display_data"
        }
      ],
      "source": [
        "channel_type = merged_df.groupby('channel_x')\n",
        "channel_purchases = channel_type['is_purchased'].value_counts()\n",
        "channel_clicks = channel_type['is_clicked'].value_counts()\n",
        "\n",
        "result = pd.concat([channel_purchases, channel_clicks], axis=1, keys=['purchased', 'clicked'])\n",
        "display(result)"
      ]
    },
    {
      "cell_type": "markdown",
      "metadata": {
        "id": "lOGx1fllf38M"
      },
      "source": [
        "### The Impact of Subject Length on Email Open Rates"
      ]
    },
    {
      "cell_type": "code",
      "execution_count": 27,
      "metadata": {
        "colab": {
          "base_uri": "https://localhost:8080/",
          "height": 1000
        },
        "id": "tZ3ksTxDf38M",
        "outputId": "d3075fb4-6d36-4c80-b369-5652e99f74ec"
      },
      "outputs": [
        {
          "name": "stdout",
          "output_type": "stream",
          "text": [
            "is_opened  subject_length  percentage\n",
            "0                    32.0    2.392561\n",
            "1                    34.0    2.634022\n",
            "2                    38.0    1.852542\n",
            "3                    74.0   37.943421\n",
            "4                    76.0   50.593824\n",
            "5                    84.0    6.597025\n",
            "6                    85.0   16.945057\n",
            "7                    87.0   20.205866\n",
            "8                    88.0   34.288776\n",
            "9                    93.0   13.550035\n",
            "10                   96.0   24.699222\n",
            "11                   97.0   12.363313\n",
            "12                   99.0   53.773585\n",
            "13                  101.0   57.798165\n",
            "14                  104.0         NaN\n",
            "15                  106.0   28.958822\n",
            "16                  109.0   17.280284\n",
            "17                  111.0   24.698376\n",
            "18                  112.0   14.673196\n",
            "19                  115.0    8.150415\n",
            "20                  117.0   23.039962\n",
            "21                  119.0   15.646190\n",
            "22                  125.0   16.932367\n",
            "23                  127.0   50.605107\n",
            "24                  129.0   15.054933\n",
            "25                  133.0   24.763235\n",
            "26                  134.0   39.473986\n",
            "27                  135.0   12.655985\n",
            "28                  138.0   46.868251\n",
            "29                  139.0   12.053756\n",
            "30                  143.0         NaN\n",
            "31                  146.0   24.925175\n",
            "32                  164.0    3.231368\n",
            "33                  185.0   29.372549\n"
          ]
        },
        {
          "data": {
            "image/png": "[encoded data removed]",
            "text/plain": [
              "<Figure size 640x480 with 1 Axes>"
            ]
          },
          "metadata": {},
          "output_type": "display_data"
        },
        {
          "data": {
            "image/png": "[encoded data removed]",
            "text/plain": [
              "<Figure size 640x480 with 1 Axes>"
            ]
          },
          "metadata": {},
          "output_type": "display_data"
        }
      ],
      "source": [
        "grouped_data = merged_df.groupby(['subject_length', 'is_opened']).size().reset_index(name='count')\n",
        "opened_data = grouped_data[grouped_data['is_opened'] == 1]\n",
        "ignored_data = grouped_data[grouped_data['is_opened'] == 0]\n",
        "\n",
        "pivot_data = grouped_data.pivot(index='subject_length', columns='is_opened', values='count')\n",
        "pivot_data['percentage'] = (pivot_data[1] / (pivot_data[1] + pivot_data[0])) * 100\n",
        "pivot_data.reset_index(inplace=True)\n",
        "print(pivot_data[['subject_length', 'percentage']])\n",
        "\n",
        "pivot_data.plot(kind='bar', x='subject_length', y='percentage', color='olive')\n",
        "plt.xlabel('Subject Length')\n",
        "plt.ylabel('Percentage of Opened Email')\n",
        "plt.title('Percentage of Opened Email Count by Subject Length')\n",
        "plt.show()\n",
        "\n",
        "stacked_bar = grouped_data.pivot(index='subject_length', columns='is_opened', values='count')\n",
        "stacked_bar.plot(kind='bar', stacked='True', color=['red', 'blue'])\n",
        "plt.xlabel('Subject Length')\n",
        "plt.ylabel('Count')\n",
        "plt.title('Opened and Ignored Email Count by Subject Length')\n",
        "plt.legend(title='is_opened', labels=['Ignored', 'Opened'])\n",
        "plt.show()"
      ]
    },
    {
      "cell_type": "markdown",
      "metadata": {
        "id": "aM--FebDf38M"
      },
      "source": [
        "### Checking if holidays correspond to client purchases"
      ]
    },
    {
      "cell_type": "code",
      "execution_count": 28,
      "metadata": {
        "id": "AuZjqFVaf38M"
      },
      "outputs": [],
      "source": [
        "holidays_df = pd.read_csv('holidays.csv')\n",
        "first_purchase_df = pd.read_csv('client_first_purchase_date.csv')\n",
        "\n",
        "from datetime import datetime\n",
        "import pytz"
      ]
    },
    {
      "cell_type": "markdown",
      "metadata": {
        "id": "TStUq9ruf38M"
      },
      "source": [
        "Creating a dataframe looking at the marketing generated sales that occured during holidays:"
      ]
    },
    {
      "cell_type": "code",
      "execution_count": 29,
      "metadata": {
        "colab": {
          "base_uri": "https://localhost:8080/",
          "height": 112
        },
        "id": "NF0O9D1zf38M",
        "outputId": "af9bb7b1-ced6-4e77-9518-7ef84297c599"
      },
      "outputs": [
        {
          "data": {
            "text/html": [
              "<div>\n",
              "<style scoped>\n",
              "    .dataframe tbody tr th:only-of-type {\n",
              "        vertical-align: middle;\n",
              "    }\n",
              "\n",
              "    .dataframe tbody tr th {\n",
              "        vertical-align: top;\n",
              "    }\n",
              "\n",
              "    .dataframe thead th {\n",
              "        text-align: right;\n",
              "    }\n",
              "</style>\n",
              "<table border=\"1\" class=\"dataframe\">\n",
              "  <thead>\n",
              "    <tr style=\"text-align: right;\">\n",
              "      <th></th>\n",
              "      <th>holiday</th>\n",
              "      <th>date_p</th>\n",
              "      <th>count</th>\n",
              "    </tr>\n",
              "  </thead>\n",
              "  <tbody>\n",
              "    <tr>\n",
              "      <th>0</th>\n",
              "      <td>Independence Day</td>\n",
              "      <td>2021-06-12</td>\n",
              "      <td>140</td>\n",
              "    </tr>\n",
              "    <tr>\n",
              "      <th>1</th>\n",
              "      <td>Spring and Labor Day</td>\n",
              "      <td>2021-05-01</td>\n",
              "      <td>52</td>\n",
              "    </tr>\n",
              "    <tr>\n",
              "      <th>2</th>\n",
              "      <td>Victory day</td>\n",
              "      <td>2021-05-09</td>\n",
              "      <td>43</td>\n",
              "    </tr>\n",
              "  </tbody>\n",
              "</table>\n",
              "</div>"
            ],
            "text/plain": [
              "                holiday      date_p  count\n",
              "0      Independence Day  2021-06-12    140\n",
              "1  Spring and Labor Day  2021-05-01     52\n",
              "2           Victory day  2021-05-09     43"
            ]
          },
          "metadata": {},
          "output_type": "display_data"
        }
      ],
      "source": [
        "temp_df = pd.DataFrame({'date_p': merged_df['purchased_at']}).reset_index()\n",
        "temp_df = temp_df.dropna(subset=['date_p'])\n",
        "for i in temp_df.index:\n",
        "    temp_df.loc[i, 'date_p'] = pd.to_datetime(temp_df['date_p'][i]).strftime('%Y-%m-%d')\n",
        "\n",
        "result_df = pd.merge(holidays_df, temp_df, left_on='date', right_on='date_p', how='inner')\n",
        "holiday_messages_df = result_df[['holiday', 'date_p']].value_counts().reset_index(name='count')\n",
        "\n",
        "display(holiday_messages_df)"
      ]
    },
    {
      "cell_type": "markdown",
      "metadata": {
        "id": "WFiE-mnxf38M"
      },
      "source": [
        "Creating a dataframe looking at the store sales that occured during holidays:"
      ]
    },
    {
      "cell_type": "code",
      "execution_count": 30,
      "metadata": {
        "colab": {
          "base_uri": "https://localhost:8080/",
          "height": 1000
        },
        "id": "TNuLKLPDf38M",
        "outputId": "d58295ea-4b04-4ae9-d2f0-c5836e0ce38d"
      },
      "outputs": [
        {
          "data": {
            "text/html": [
              "<div>\n",
              "<style scoped>\n",
              "    .dataframe tbody tr th:only-of-type {\n",
              "        vertical-align: middle;\n",
              "    }\n",
              "\n",
              "    .dataframe tbody tr th {\n",
              "        vertical-align: top;\n",
              "    }\n",
              "\n",
              "    .dataframe thead th {\n",
              "        text-align: right;\n",
              "    }\n",
              "</style>\n",
              "<table border=\"1\" class=\"dataframe\">\n",
              "  <thead>\n",
              "    <tr style=\"text-align: right;\">\n",
              "      <th></th>\n",
              "      <th>holiday</th>\n",
              "      <th>date</th>\n",
              "      <th>count</th>\n",
              "    </tr>\n",
              "  </thead>\n",
              "  <tbody>\n",
              "    <tr>\n",
              "      <th>0</th>\n",
              "      <td>Unity Day</td>\n",
              "      <td>2022-11-04</td>\n",
              "      <td>6416</td>\n",
              "    </tr>\n",
              "    <tr>\n",
              "      <th>1</th>\n",
              "      <td>Independence Day</td>\n",
              "      <td>2023-06-12</td>\n",
              "      <td>4908</td>\n",
              "    </tr>\n",
              "    <tr>\n",
              "      <th>2</th>\n",
              "      <td>Spring and Labor Day</td>\n",
              "      <td>2023-05-01</td>\n",
              "      <td>3831</td>\n",
              "    </tr>\n",
              "    <tr>\n",
              "      <th>3</th>\n",
              "      <td>Victory day</td>\n",
              "      <td>2023-05-09</td>\n",
              "      <td>3286</td>\n",
              "    </tr>\n",
              "    <tr>\n",
              "      <th>4</th>\n",
              "      <td>Back to School</td>\n",
              "      <td>2023-09-01</td>\n",
              "      <td>3209</td>\n",
              "    </tr>\n",
              "    <tr>\n",
              "      <th>5</th>\n",
              "      <td>Black Friday</td>\n",
              "      <td>2023-11-24</td>\n",
              "      <td>3004</td>\n",
              "    </tr>\n",
              "    <tr>\n",
              "      <th>6</th>\n",
              "      <td>International Women's Day</td>\n",
              "      <td>2022-03-08</td>\n",
              "      <td>2851</td>\n",
              "    </tr>\n",
              "    <tr>\n",
              "      <th>7</th>\n",
              "      <td>Fool's day</td>\n",
              "      <td>2022-04-01</td>\n",
              "      <td>2643</td>\n",
              "    </tr>\n",
              "    <tr>\n",
              "      <th>8</th>\n",
              "      <td>Unity Day</td>\n",
              "      <td>2023-11-04</td>\n",
              "      <td>2512</td>\n",
              "    </tr>\n",
              "    <tr>\n",
              "      <th>9</th>\n",
              "      <td>Cyber Monday Sale</td>\n",
              "      <td>2022-01-31</td>\n",
              "      <td>2508</td>\n",
              "    </tr>\n",
              "    <tr>\n",
              "      <th>10</th>\n",
              "      <td>International Women's Day</td>\n",
              "      <td>2023-03-08</td>\n",
              "      <td>2439</td>\n",
              "    </tr>\n",
              "    <tr>\n",
              "      <th>11</th>\n",
              "      <td>Fool's day</td>\n",
              "      <td>2023-04-01</td>\n",
              "      <td>2177</td>\n",
              "    </tr>\n",
              "    <tr>\n",
              "      <th>12</th>\n",
              "      <td>Defender of the Fatherland Day</td>\n",
              "      <td>2022-02-23</td>\n",
              "      <td>2112</td>\n",
              "    </tr>\n",
              "    <tr>\n",
              "      <th>13</th>\n",
              "      <td>Back to School</td>\n",
              "      <td>2022-09-01</td>\n",
              "      <td>1882</td>\n",
              "    </tr>\n",
              "    <tr>\n",
              "      <th>14</th>\n",
              "      <td>Valentines Day</td>\n",
              "      <td>2022-02-14</td>\n",
              "      <td>1859</td>\n",
              "    </tr>\n",
              "    <tr>\n",
              "      <th>15</th>\n",
              "      <td>Orthodox Christmas</td>\n",
              "      <td>2022-01-07</td>\n",
              "      <td>1849</td>\n",
              "    </tr>\n",
              "    <tr>\n",
              "      <th>16</th>\n",
              "      <td>Independence Day</td>\n",
              "      <td>2022-06-12</td>\n",
              "      <td>1832</td>\n",
              "    </tr>\n",
              "    <tr>\n",
              "      <th>17</th>\n",
              "      <td>Baptizing - Sacred Epiphany</td>\n",
              "      <td>2022-01-19</td>\n",
              "      <td>1814</td>\n",
              "    </tr>\n",
              "    <tr>\n",
              "      <th>18</th>\n",
              "      <td>Orthodox Christmas</td>\n",
              "      <td>2023-01-07</td>\n",
              "      <td>1810</td>\n",
              "    </tr>\n",
              "    <tr>\n",
              "      <th>19</th>\n",
              "      <td>Spring and Labor Day</td>\n",
              "      <td>2022-05-01</td>\n",
              "      <td>1803</td>\n",
              "    </tr>\n",
              "    <tr>\n",
              "      <th>20</th>\n",
              "      <td>Old New Year</td>\n",
              "      <td>2022-01-13</td>\n",
              "      <td>1798</td>\n",
              "    </tr>\n",
              "    <tr>\n",
              "      <th>21</th>\n",
              "      <td>Students day</td>\n",
              "      <td>2022-01-25</td>\n",
              "      <td>1556</td>\n",
              "    </tr>\n",
              "    <tr>\n",
              "      <th>22</th>\n",
              "      <td>Victory day</td>\n",
              "      <td>2022-05-09</td>\n",
              "      <td>1377</td>\n",
              "    </tr>\n",
              "    <tr>\n",
              "      <th>23</th>\n",
              "      <td>Old New Year</td>\n",
              "      <td>2023-01-13</td>\n",
              "      <td>1312</td>\n",
              "    </tr>\n",
              "    <tr>\n",
              "      <th>24</th>\n",
              "      <td>Defender of the Fatherland Day</td>\n",
              "      <td>2023-02-23</td>\n",
              "      <td>1304</td>\n",
              "    </tr>\n",
              "    <tr>\n",
              "      <th>25</th>\n",
              "      <td>New Year</td>\n",
              "      <td>2022-01-01</td>\n",
              "      <td>1186</td>\n",
              "    </tr>\n",
              "    <tr>\n",
              "      <th>26</th>\n",
              "      <td>Students day</td>\n",
              "      <td>2023-01-25</td>\n",
              "      <td>1113</td>\n",
              "    </tr>\n",
              "    <tr>\n",
              "      <th>27</th>\n",
              "      <td>Valentines Day</td>\n",
              "      <td>2023-02-14</td>\n",
              "      <td>1026</td>\n",
              "    </tr>\n",
              "    <tr>\n",
              "      <th>28</th>\n",
              "      <td>New Year</td>\n",
              "      <td>2023-01-01</td>\n",
              "      <td>1018</td>\n",
              "    </tr>\n",
              "    <tr>\n",
              "      <th>29</th>\n",
              "      <td>Cyber Monday Sale</td>\n",
              "      <td>2023-01-30</td>\n",
              "      <td>952</td>\n",
              "    </tr>\n",
              "    <tr>\n",
              "      <th>30</th>\n",
              "      <td>Baptizing - Sacred Epiphany</td>\n",
              "      <td>2023-01-19</td>\n",
              "      <td>907</td>\n",
              "    </tr>\n",
              "  </tbody>\n",
              "</table>\n",
              "</div>"
            ],
            "text/plain": [
              "                           holiday        date  count\n",
              "0                        Unity Day  2022-11-04   6416\n",
              "1                 Independence Day  2023-06-12   4908\n",
              "2             Spring and Labor Day  2023-05-01   3831\n",
              "3                      Victory day  2023-05-09   3286\n",
              "4                   Back to School  2023-09-01   3209\n",
              "5                     Black Friday  2023-11-24   3004\n",
              "6        International Women's Day  2022-03-08   2851\n",
              "7                       Fool's day  2022-04-01   2643\n",
              "8                        Unity Day  2023-11-04   2512\n",
              "9                Cyber Monday Sale  2022-01-31   2508\n",
              "10       International Women's Day  2023-03-08   2439\n",
              "11                      Fool's day  2023-04-01   2177\n",
              "12  Defender of the Fatherland Day  2022-02-23   2112\n",
              "13                  Back to School  2022-09-01   1882\n",
              "14                  Valentines Day  2022-02-14   1859\n",
              "15              Orthodox Christmas  2022-01-07   1849\n",
              "16                Independence Day  2022-06-12   1832\n",
              "17     Baptizing - Sacred Epiphany  2022-01-19   1814\n",
              "18              Orthodox Christmas  2023-01-07   1810\n",
              "19            Spring and Labor Day  2022-05-01   1803\n",
              "20                    Old New Year  2022-01-13   1798\n",
              "21                    Students day  2022-01-25   1556\n",
              "22                     Victory day  2022-05-09   1377\n",
              "23                    Old New Year  2023-01-13   1312\n",
              "24  Defender of the Fatherland Day  2023-02-23   1304\n",
              "25                        New Year  2022-01-01   1186\n",
              "26                    Students day  2023-01-25   1113\n",
              "27                  Valentines Day  2023-02-14   1026\n",
              "28                        New Year  2023-01-01   1018\n",
              "29               Cyber Monday Sale  2023-01-30    952\n",
              "30     Baptizing - Sacred Epiphany  2023-01-19    907"
            ]
          },
          "metadata": {},
          "output_type": "display_data"
        }
      ],
      "source": [
        "result_df = pd.merge(holidays_df, first_purchase_df, left_on='date', right_on='first_purchase_date', how='inner')\n",
        "holiday_store_sales_df = result_df[['holiday', 'date']].value_counts().reset_index(name='count')\n",
        "display(holiday_store_sales_df)"
      ]
    },
    {
      "cell_type": "markdown",
      "metadata": {
        "id": "sVf_2etOf38N"
      },
      "source": [
        "Computing percentage of sales generated during holidays, with respect to the total amount of sales produced by the store."
      ]
    },
    {
      "cell_type": "code",
      "execution_count": 31,
      "metadata": {
        "colab": {
          "base_uri": "https://localhost:8080/"
        },
        "id": "tScNxUTxf38N",
        "outputId": "57513bb6-b3b8-44f9-a56e-1c4e35c5e9ab"
      },
      "outputs": [
        {
          "name": "stdout",
          "output_type": "stream",
          "text": [
            "PERCENT INCREASE IN SALES:\n",
            "\n",
            "Percentage of first time customer purchases that occured during a holiday:\n",
            "4.74 %\n",
            "\n",
            "Percentage of marketing generated purchases that occured during a holiday:\n",
            "3.68 %\n"
          ]
        }
      ],
      "source": [
        "fraction_messages = (holiday_store_sales_df['count'].sum() / len(first_purchase_df)) * 100\n",
        "fraction_first = (holiday_messages_df['count'].sum() / merged_df['is_purchased'].sum()) * 100\n",
        "\n",
        "print(\"PERCENT INCREASE IN SALES:\\n\")\n",
        "print(\"Percentage of first time customer purchases that occured during a holiday:\")\n",
        "print(round(fraction_first,2),\"%\")\n",
        "print(\"\\nPercentage of marketing generated purchases that occured during a holiday:\")\n",
        "print(round(fraction_messages,2),\"%\")"
      ]
    },
    {
      "cell_type": "code",
      "execution_count": 32,
      "metadata": {
        "colab": {
          "base_uri": "https://localhost:8080/",
          "height": 1000
        },
        "id": "fboCY6gaf38N",
        "outputId": "bbdc1a0a-fed0-4db2-b7d5-873d4902608d"
      },
      "outputs": [
        {
          "name": "stdout",
          "output_type": "stream",
          "text": [
            "['sale out' nan 'event' 'offer after purchase' 'happy birthday'\n",
            " 'leave review' 'welcome campaign' 'abandoned cart' 'abandoned category'\n",
            " 'abandoned view' 'added to wish list' 'abandoned search' 'subscribed'\n",
            " 'removed from wish list' 'double opt in' 'user added to segment'\n",
            " 'recent purchase' 'price drop' 'back in stock' 'order shipped'\n",
            " 'order reminder' 'welcome letter' 'order ready for pickup'\n",
            " 'order created' 'bonuses expired' 'order cancelled'\n",
            " 'order pickup still pending' 'profile updated' 'wish list status']\n",
            "['sale out' 'order ready for pickup' 'abandoned search' 'recent purchase'\n",
            " 'abandoned view' 'subscribed' 'bonuses expired' 'abandoned cart'\n",
            " 'order cancelled' 'order pickup still pending' 'order reminder'\n",
            " 'abandoned category' 'order created' nan 'profile updated'\n",
            " 'order shipped' 'event' 'added to wish list' 'price drop'\n",
            " 'wish list status']\n"
          ]
        },
        {
          "data": {
            "text/plain": [
              "topic                       is_clicked\n",
              "abandoned cart              0               93397\n",
              "                            1                3371\n",
              "abandoned category          0              151508\n",
              "                            1                4726\n",
              "abandoned search            0               35671\n",
              "                            1                 589\n",
              "abandoned view              0              212192\n",
              "                            1               10917\n",
              "added to wish list          0               31942\n",
              "                            1                1419\n",
              "bonuses expired             0               65812\n",
              "                            1                1903\n",
              "event                       0                6301\n",
              "                            1                 298\n",
              "order cancelled             0               54495\n",
              "                            1                2324\n",
              "order created               0               91820\n",
              "                            1                5251\n",
              "order pickup still pending  0                1758\n",
              "                            1                  85\n",
              "order ready for pickup      0              480187\n",
              "                            1                5749\n",
              "order reminder              0               65448\n",
              "                            1                 762\n",
              "order shipped               0               14370\n",
              "                            1                1157\n",
              "price drop                  0                  22\n",
              "                            1                   2\n",
              "profile updated             0               25493\n",
              "                            1                 704\n",
              "recent purchase             0              180927\n",
              "                            1                8174\n",
              "sale out                    0             2755063\n",
              "                            1               34331\n",
              "subscribed                  0              107775\n",
              "                            1               13135\n",
              "wish list status            0                   2\n",
              "Name: count, dtype: int64"
            ]
          },
          "metadata": {},
          "output_type": "display_data"
        },
        {
          "data": {
            "text/plain": [
              "topic                       is_opened\n",
              "abandoned cart              0              83778\n",
              "                            1              12990\n",
              "abandoned category          0             134917\n",
              "                            1              21317\n",
              "abandoned search            0              32842\n",
              "                            1               3418\n",
              "abandoned view              0             185724\n",
              "                            1              37385\n",
              "added to wish list          0              27410\n",
              "                            1               5951\n",
              "bonuses expired             0              59145\n",
              "                            1               8570\n",
              "event                       0               4827\n",
              "                            1               1772\n",
              "order cancelled             0              39653\n",
              "                            1              17166\n",
              "order created               0              62613\n",
              "                            1              34458\n",
              "order pickup still pending  0               1043\n",
              "                            1                800\n",
              "order ready for pickup      0             408639\n",
              "                            1              77297\n",
              "order reminder              0              54994\n",
              "                            1              11216\n",
              "order shipped               1               7857\n",
              "                            0               7670\n",
              "price drop                  0                 22\n",
              "                            1                  2\n",
              "profile updated             0              15856\n",
              "                            1              10341\n",
              "recent purchase             0             154995\n",
              "                            1              34106\n",
              "sale out                    0            2399014\n",
              "                            1             390380\n",
              "subscribed                  0              89236\n",
              "                            1              31674\n",
              "wish list status            1                  2\n",
              "Name: count, dtype: int64"
            ]
          },
          "metadata": {},
          "output_type": "display_data"
        },
        {
          "data": {
            "text/plain": [
              "topic                       is_purchased\n",
              "abandoned cart              0                 96336\n",
              "                            1                   432\n",
              "abandoned category          0                155884\n",
              "                            1                   350\n",
              "abandoned search            0                 36231\n",
              "                            1                    29\n",
              "abandoned view              0                222297\n",
              "                            1                   812\n",
              "added to wish list          0                 33242\n",
              "                            1                   119\n",
              "bonuses expired             0                 67653\n",
              "                            1                    62\n",
              "event                       0                  6593\n",
              "                            1                     6\n",
              "order cancelled             0                 56205\n",
              "                            1                   614\n",
              "order created               0                 96454\n",
              "                            1                   617\n",
              "order pickup still pending  0                  1829\n",
              "                            1                    14\n",
              "order ready for pickup      0                485333\n",
              "                            1                   603\n",
              "order reminder              0                 66197\n",
              "                            1                    13\n",
              "order shipped               0                 15443\n",
              "                            1                    84\n",
              "price drop                  0                    24\n",
              "profile updated             0                 26143\n",
              "                            1                    54\n",
              "recent purchase             0                188952\n",
              "                            1                   149\n",
              "sale out                    0               2788416\n",
              "                            1                   978\n",
              "subscribed                  0                120887\n",
              "                            1                    23\n",
              "wish list status            0                     2\n",
              "Name: count, dtype: int64"
            ]
          },
          "metadata": {},
          "output_type": "display_data"
        }
      ],
      "source": [
        "print(campaigns_df[\"topic\"].unique())\n",
        "print(merged_df[\"topic\"].unique())\n",
        "\n",
        "clicked_per_topic = merged_df.groupby(\"topic\")[\"is_clicked\"].value_counts()\n",
        "opened_per_topic = merged_df.groupby(\"topic\")[\"is_opened\"].value_counts()\n",
        "purchased_per_topic = merged_df.groupby(\"topic\")[\"is_purchased\"].value_counts()\n",
        "display(clicked_per_topic)\n",
        "display(opened_per_topic)\n",
        "display(purchased_per_topic)\n",
        "\n"
      ]
    },
    {
      "cell_type": "code",
      "execution_count": 33,
      "metadata": {
        "colab": {
          "base_uri": "https://localhost:8080/"
        },
        "id": "wZeovM4-f38O",
        "outputId": "279c7122-10dd-4143-ffa0-7ce5c93e68aa"
      },
      "outputs": [
        {
          "name": "stdout",
          "output_type": "stream",
          "text": [
            "<class 'pandas.core.series.Series'>\n"
          ]
        }
      ],
      "source": [
        "\n",
        "# for i in clicked_per_topic.index:\n",
        "#     print(clicked_per_topic[i[0]])\n",
        "# clicked_percentage = clicked_per_topic[\"event\"][1] / (clicked_per_topic[\"event\"][1] + clicked_per_topic[\"event\"][0]) * 100\n",
        "# print(clicked_percentage)\n",
        "\n",
        "print(type(clicked_per_topic))"
      ]
    },
    {
      "cell_type": "code",
      "execution_count": 34,
      "metadata": {
        "colab": {
          "base_uri": "https://localhost:8080/"
        },
        "id": "eGJFSbW5f38O",
        "outputId": "caa11428-b2f2-4c2c-c252-631240b4d106"
      },
      "outputs": [
        {
          "name": "stderr",
          "output_type": "stream",
          "text": [
            "C:\\Users\\Alvaro\\AppData\\Local\\Temp\\ipykernel_7296\\841604187.py:12: FutureWarning: Series.__getitem__ treating keys as positions is deprecated. In a future version, integer keys will always be treated as labels (consistent with DataFrame behavior). To access a value by position, use `ser.iloc[pos]`\n",
            "  percentages.append(calc_perecentage(topics_clicks[i] , topics_clicks[i + 1]))\n",
            "C:\\Users\\Alvaro\\AppData\\Local\\Temp\\ipykernel_7296\\841604187.py:12: FutureWarning: Series.__getitem__ treating keys as positions is deprecated. In a future version, integer keys will always be treated as labels (consistent with DataFrame behavior). To access a value by position, use `ser.iloc[pos]`\n",
            "  percentages.append(calc_perecentage(topics_clicks[i] , topics_clicks[i + 1]))\n"
          ]
        },
        {
          "name": "stdout",
          "output_type": "stream",
          "text": [
            "topics with most engagement:\n",
            "sale out, order ready for pickup, abandoned view, recent purchase, abandoned category, \n",
            "\n",
            "topics with least engagement:\n",
            "order shipped, event, order pickup still pending, price drop, wish list status, \n",
            "\n",
            " topic\n",
            "sale out                      2789394\n",
            "order ready for pickup         485936\n",
            "abandoned view                 223109\n",
            "recent purchase                189101\n",
            "abandoned category             156234\n",
            "order shipped                   15527\n",
            "event                            6599\n",
            "order pickup still pending       1843\n",
            "price drop                         24\n",
            "wish list status                    2\n",
            "Name: count, dtype: int64\n"
          ]
        },
        {
          "name": "stderr",
          "output_type": "stream",
          "text": [
            "C:\\Users\\Alvaro\\AppData\\Local\\Temp\\ipykernel_7296\\841604187.py:12: FutureWarning: Series.__getitem__ treating keys as positions is deprecated. In a future version, integer keys will always be treated as labels (consistent with DataFrame behavior). To access a value by position, use `ser.iloc[pos]`\n",
            "  percentages.append(calc_perecentage(topics_clicks[i] , topics_clicks[i + 1]))\n"
          ]
        }
      ],
      "source": [
        "\n",
        "def calc_perecentage(rest, part):\n",
        "    return (part / (rest + part)) * 100\n",
        "\n",
        "def calc_percentages(col_name):\n",
        "    topics_clicks = topcis_engagement.groupby(\"topic\")[col_name].value_counts()\n",
        "    # calculating clicks percentages of our chosen topics\n",
        "    percentages = []\n",
        "    for i in range(0, len(topics_clicks), 2):\n",
        "        if i == len(topics_clicks) - 1:  # least one has 0 clicks so clicks percentage is 0%\n",
        "            percentages.append(0)\n",
        "            break\n",
        "        percentages.append(calc_perecentage(topics_clicks[i] , topics_clicks[i + 1]))\n",
        "\n",
        "    return percentages\n",
        "\n",
        "# Choosing 5 topics with most engagement and 5 topics with least engagement\n",
        "topics = merged_df[\"topic\"].value_counts()\n",
        "topics = pd.concat([topics[:5], topics[-5:]])\n",
        "\n",
        "# filter only the topics in our engagement list\n",
        "topcis_engagement = merged_df.loc[merged_df[\"topic\"].isin(topics.index)][[\"topic\", \"is_clicked\", \"is_opened\", \"is_purchased\"]]\n",
        "\n",
        "topics_clicks = topcis_engagement.groupby(\"topic\")[\"is_clicked\"].value_counts()\n",
        "\n",
        "# calculating clicks percentages of our chosen topics\n",
        "clicks_percentages = calc_percentages(\"is_clicked\")\n",
        "opened_percentages = calc_percentages(\"is_opened\")\n",
        "purchased_percentages = calc_percentages(\"is_purchased\")\n",
        "\n",
        "\n",
        "print(\"topics with most engagement:\")\n",
        "for i in topics.index[:5]:\n",
        "    print(i, end= \", \")\n",
        "print(\"\\n\\ntopics with least engagement:\")\n",
        "for i in topics.index[-5:]:\n",
        "    print(i, end=\", \")\n",
        "\n",
        "print(\"\\n\\n\", topics)\n"
      ]
    },
    {
      "cell_type": "code",
      "execution_count": 35,
      "metadata": {
        "colab": {
          "base_uri": "https://localhost:8080/",
          "height": 957
        },
        "id": "Eo-Tpnjtf38O",
        "outputId": "d876b0c9-70b3-4d0b-f8e7-207ac85d5ca7"
      },
      "outputs": [
        {
          "data": {
            "image/png": "[encoded data removed]",
            "text/plain": [
              "<Figure size 640x480 with 1 Axes>"
            ]
          },
          "metadata": {},
          "output_type": "display_data"
        },
        {
          "data": {
            "image/png": "[encoded data removed]",
            "text/plain": [
              "<Figure size 640x480 with 1 Axes>"
            ]
          },
          "metadata": {},
          "output_type": "display_data"
        }
      ],
      "source": [
        "plt.bar(topics.index[:5].to_list(), clicks_percentages[:5])\n",
        "plt.title(\"click percentages of topics with most engagement\")\n",
        "plt.xlabel('topics')\n",
        "plt.ylabel('click percentage')\n",
        "plt.xticks(rotation=15)\n",
        "plt.grid(axis='y', linestyle='--')\n",
        "plt.tight_layout()\n",
        "plt.show()\n",
        "\n",
        "plt.bar(topics.index[-5:].to_list(), clicks_percentages[-5:])\n",
        "plt.title(\"click percentages of topics with least engagement\")\n",
        "plt.xlabel('topics')\n",
        "plt.ylabel('click percentage')\n",
        "plt.xticks(rotation=15)\n",
        "plt.grid(axis='y', linestyle='--')\n",
        "plt.tight_layout()\n",
        "plt.show()\n",
        "\n",
        "\n"
      ]
    },
    {
      "cell_type": "code",
      "execution_count": 36,
      "metadata": {
        "colab": {
          "base_uri": "https://localhost:8080/",
          "height": 957
        },
        "id": "CLYLwbpgf38P",
        "outputId": "98a8ddb5-dcf4-4f36-8c40-841bc57c38ea"
      },
      "outputs": [
        {
          "data": {
            "image/png": "[encoded data removed]",
            "text/plain": [
              "<Figure size 640x480 with 1 Axes>"
            ]
          },
          "metadata": {},
          "output_type": "display_data"
        },
        {
          "data": {
            "image/png": "[encoded data removed]",
            "text/plain": [
              "<Figure size 640x480 with 1 Axes>"
            ]
          },
          "metadata": {},
          "output_type": "display_data"
        }
      ],
      "source": [
        "plt.bar(topics.index[:5].to_list(), opened_percentages[:5])\n",
        "plt.title(\"opened percentages of topics with most engagement\")\n",
        "plt.xlabel('topics')\n",
        "plt.ylabel('opened percentage')\n",
        "plt.xticks(rotation=15)\n",
        "plt.grid(axis='y', linestyle='--')\n",
        "plt.tight_layout()\n",
        "plt.show()\n",
        "\n",
        "plt.bar(topics.index[-5:].to_list(), opened_percentages[-5:])\n",
        "plt.title(\"opened percentages of topics with most engagement\")\n",
        "plt.xlabel('topics')\n",
        "plt.ylabel('opened percentage')\n",
        "plt.xticks(rotation=15)\n",
        "plt.grid(axis='y', linestyle='--')\n",
        "plt.tight_layout()\n",
        "plt.show()"
      ]
    },
    {
      "cell_type": "code",
      "execution_count": 37,
      "metadata": {
        "colab": {
          "base_uri": "https://localhost:8080/",
          "height": 957
        },
        "id": "IrwwyyiPf38Q",
        "outputId": "8eb0a2b5-2498-46b7-f9a2-e4ea7b0a87d1"
      },
      "outputs": [
        {
          "data": {
            "image/png": "[encoded data removed]",
            "text/plain": [
              "<Figure size 640x480 with 1 Axes>"
            ]
          },
          "metadata": {},
          "output_type": "display_data"
        },
        {
          "data": {
            "image/png": "[encoded data removed]",
            "text/plain": [
              "<Figure size 640x480 with 1 Axes>"
            ]
          },
          "metadata": {},
          "output_type": "display_data"
        }
      ],
      "source": [
        "plt.bar(topics.index[:5].to_list(), purchased_percentages[:5])\n",
        "plt.title(\"purchased percentages of topics with most engagement\")\n",
        "plt.xlabel('topics')\n",
        "plt.ylabel('purchased percentage')\n",
        "plt.xticks(rotation=15)\n",
        "plt.grid(axis='y', linestyle='--')\n",
        "plt.tight_layout()\n",
        "plt.show()\n",
        "\n",
        "plt.bar(topics.index[-5:].to_list(), purchased_percentages[-5:])\n",
        "plt.title(\"purchased percentages of topics with most engagement\")\n",
        "plt.xlabel('topics')\n",
        "plt.ylabel('purchased percentage')\n",
        "plt.xticks(rotation=15)\n",
        "plt.grid(axis='y', linestyle='--')\n",
        "plt.tight_layout()\n",
        "plt.show()"
      ]
    },
    {
      "cell_type": "markdown",
      "metadata": {
        "id": "SwmqPUg0f38R"
      },
      "source": [
        "**NOTE** what can we read from the plots?? I don't understand how there is a campaign with the topic order shipped!! this one is weird. maybe we should manually select the topics we want to review.\n",
        "chech the effect of holidays on sales!!\n",
        "heatmap to discover important features correlated with purchases, clicks, or opens."
      ]
    }
  ],
  "metadata": {
    "colab": {
      "provenance": [],
      "toc_visible": true
    },
    "kernelspec": {
      "display_name": "Python 3",
      "language": "python",
      "name": "python3"
    },
    "language_info": {
      "codemirror_mode": {
        "name": "ipython",
        "version": 3
      },
      "file_extension": ".py",
      "mimetype": "text/x-python",
      "name": "python",
      "nbconvert_exporter": "python",
      "pygments_lexer": "ipython3",
      "version": "3.10.4"
    }
  },
  "nbformat": 4,
  "nbformat_minor": 0
}
